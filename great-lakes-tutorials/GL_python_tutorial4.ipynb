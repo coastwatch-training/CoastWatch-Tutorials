{
 "cells": [
  {
   "cell_type": "markdown",
   "metadata": {},
   "source": [
    "#### Summary\n",
    "\n",
    "This example is based on the OceanWatch tutorial meterial edited with Great Lakes satellite data.In this example you will see how to extract Great Lakes ice concentration data from the ERDDAP server and make a ice concentration map, and caculate the monthly\n",
    "\n",
    "#### The example demonstrates the following techniques:\n",
    "\n",
    "* Loading Great Lakes ice concentration data from Great Lakes ERDDAP data server.\n",
    "* Create a map of ice concentration.\n",
    "* Compute the daily mean over the selected region.\n",
    "  \n",
    "\n",
    "#### Datesets used:\n",
    "\n",
    "* Great Lakes ice concentration: Great Lakes ice concentration product.\n",
    " "
   ]
  },
  {
   "cell_type": "markdown",
   "metadata": {},
   "source": [
    "#### Import the required Python modules"
   ]
  },
  {
   "cell_type": "code",
   "execution_count": 1,
   "metadata": {},
   "outputs": [],
   "source": [
    "import xarray as xr\n",
    "import pandas as pd\n",
    "import numpy as np\n",
    "import urllib.request\n",
    "\n",
    "from matplotlib import pyplot as plt\n",
    "from matplotlib.colors import LinearSegmentedColormap\n",
    "import warnings\n",
    "#warnings.filterwarnings('ignore')"
   ]
  },
  {
   "cell_type": "markdown",
   "metadata": {},
   "source": [
    "####  Downlading data from ERDDAP server\n",
    "\n",
    "Because ERDDAP includes RESTful services, you can download data listed on any ERDDAP platform from Python using the URL structure. For example, the following link allows you to subset daily ice concentration data from the dataset GL_Ice_Concentration_GCS\n",
    "\n",
    "In this specific example, we will get the SST data from 2023-06-01 to 2023-06-30. the URL we generated is :\n",
    "\n",
    "https://apps.glerl.noaa.gov/erddap/griddap/GL_Ice_Concentration_GCS.nc?ice_concentration%5B(1995-01-01T12:00:00Z):1:(2024-05-01T12:00:00Z)%5D%5B(41.38):1:(42.10)%5D%5B(-83.59):1:(-82.5)%5D\n",
    "\n",
    "\n",
    "we extract the data in csv format due to the nc library not available."
   ]
  },
  {
   "cell_type": "code",
   "execution_count": 2,
   "metadata": {},
   "outputs": [
    {
     "data": {
      "text/plain": [
       "('w_e_ice_concentration.nc', <http.client.HTTPMessage at 0x1b687bf22d0>)"
      ]
     },
     "execution_count": 2,
     "metadata": {},
     "output_type": "execute_result"
    }
   ],
   "source": [
    "url=\"https://apps.glerl.noaa.gov/erddap/griddap/GL_Ice_Concentration_GCS.nc?ice_concentration%5B(1995-01-01T12:00:00Z):1:(2024-05-01T12:00:00Z)%5D%5B(41.38):1:(42.10)%5D%5B(-83.59):1:(-82.5)%5D\"\n",
    "urllib.request.urlretrieve(url, \"w_e_ice_concentration.nc\")"
   ]
  },
  {
   "cell_type": "markdown",
   "metadata": {},
   "source": [
    "#### Importing NetCDF4 data in Python\n",
    "\n",
    "Now that we've downloaded the data locally, we can import it and extract our variables of interest.\n",
    "\n",
    "The xarray package makes it very convenient to work with NetCDF files. Documentation is available here:\n",
    "http://xarray.pydata.org/en/stable/why-xarray.html"
   ]
  },
  {
   "cell_type": "code",
   "execution_count": 3,
   "metadata": {},
   "outputs": [],
   "source": [
    "import xarray as xr\n",
    "import netCDF4 as nc"
   ]
  },
  {
   "cell_type": "markdown",
   "metadata": {},
   "source": [
    "####  Open the file and load it as an xarray dataset:"
   ]
  },
  {
   "cell_type": "code",
   "execution_count": 4,
   "metadata": {},
   "outputs": [],
   "source": [
    "ds = xr.open_dataset('w_e_ice_concentration.nc',decode_cf=False)\n",
    "#ds = xr.open_dataset('e_sst.nc')"
   ]
  },
  {
   "cell_type": "markdown",
   "metadata": {},
   "source": [
    "####  Examine the data structure:"
   ]
  },
  {
   "cell_type": "code",
   "execution_count": 5,
   "metadata": {},
   "outputs": [
    {
     "data": {
      "text/html": [
       "<div><svg style=\"position: absolute; width: 0; height: 0; overflow: hidden\">\n",
       "<defs>\n",
       "<symbol id=\"icon-database\" viewBox=\"0 0 32 32\">\n",
       "<path d=\"M16 0c-8.837 0-16 2.239-16 5v4c0 2.761 7.163 5 16 5s16-2.239 16-5v-4c0-2.761-7.163-5-16-5z\"></path>\n",
       "<path d=\"M16 17c-8.837 0-16-2.239-16-5v6c0 2.761 7.163 5 16 5s16-2.239 16-5v-6c0 2.761-7.163 5-16 5z\"></path>\n",
       "<path d=\"M16 26c-8.837 0-16-2.239-16-5v6c0 2.761 7.163 5 16 5s16-2.239 16-5v-6c0 2.761-7.163 5-16 5z\"></path>\n",
       "</symbol>\n",
       "<symbol id=\"icon-file-text2\" viewBox=\"0 0 32 32\">\n",
       "<path d=\"M28.681 7.159c-0.694-0.947-1.662-2.053-2.724-3.116s-2.169-2.030-3.116-2.724c-1.612-1.182-2.393-1.319-2.841-1.319h-15.5c-1.378 0-2.5 1.121-2.5 2.5v27c0 1.378 1.122 2.5 2.5 2.5h23c1.378 0 2.5-1.122 2.5-2.5v-19.5c0-0.448-0.137-1.23-1.319-2.841zM24.543 5.457c0.959 0.959 1.712 1.825 2.268 2.543h-4.811v-4.811c0.718 0.556 1.584 1.309 2.543 2.268zM28 29.5c0 0.271-0.229 0.5-0.5 0.5h-23c-0.271 0-0.5-0.229-0.5-0.5v-27c0-0.271 0.229-0.5 0.5-0.5 0 0 15.499-0 15.5 0v7c0 0.552 0.448 1 1 1h7v19.5z\"></path>\n",
       "<path d=\"M23 26h-14c-0.552 0-1-0.448-1-1s0.448-1 1-1h14c0.552 0 1 0.448 1 1s-0.448 1-1 1z\"></path>\n",
       "<path d=\"M23 22h-14c-0.552 0-1-0.448-1-1s0.448-1 1-1h14c0.552 0 1 0.448 1 1s-0.448 1-1 1z\"></path>\n",
       "<path d=\"M23 18h-14c-0.552 0-1-0.448-1-1s0.448-1 1-1h14c0.552 0 1 0.448 1 1s-0.448 1-1 1z\"></path>\n",
       "</symbol>\n",
       "</defs>\n",
       "</svg>\n",
       "<style>/* CSS stylesheet for displaying xarray objects in jupyterlab.\n",
       " *\n",
       " */\n",
       "\n",
       ":root {\n",
       "  --xr-font-color0: var(--jp-content-font-color0, rgba(0, 0, 0, 1));\n",
       "  --xr-font-color2: var(--jp-content-font-color2, rgba(0, 0, 0, 0.54));\n",
       "  --xr-font-color3: var(--jp-content-font-color3, rgba(0, 0, 0, 0.38));\n",
       "  --xr-border-color: var(--jp-border-color2, #e0e0e0);\n",
       "  --xr-disabled-color: var(--jp-layout-color3, #bdbdbd);\n",
       "  --xr-background-color: var(--jp-layout-color0, white);\n",
       "  --xr-background-color-row-even: var(--jp-layout-color1, white);\n",
       "  --xr-background-color-row-odd: var(--jp-layout-color2, #eeeeee);\n",
       "}\n",
       "\n",
       "html[theme=dark],\n",
       "body[data-theme=dark],\n",
       "body.vscode-dark {\n",
       "  --xr-font-color0: rgba(255, 255, 255, 1);\n",
       "  --xr-font-color2: rgba(255, 255, 255, 0.54);\n",
       "  --xr-font-color3: rgba(255, 255, 255, 0.38);\n",
       "  --xr-border-color: #1F1F1F;\n",
       "  --xr-disabled-color: #515151;\n",
       "  --xr-background-color: #111111;\n",
       "  --xr-background-color-row-even: #111111;\n",
       "  --xr-background-color-row-odd: #313131;\n",
       "}\n",
       "\n",
       ".xr-wrap {\n",
       "  display: block !important;\n",
       "  min-width: 300px;\n",
       "  max-width: 700px;\n",
       "}\n",
       "\n",
       ".xr-text-repr-fallback {\n",
       "  /* fallback to plain text repr when CSS is not injected (untrusted notebook) */\n",
       "  display: none;\n",
       "}\n",
       "\n",
       ".xr-header {\n",
       "  padding-top: 6px;\n",
       "  padding-bottom: 6px;\n",
       "  margin-bottom: 4px;\n",
       "  border-bottom: solid 1px var(--xr-border-color);\n",
       "}\n",
       "\n",
       ".xr-header > div,\n",
       ".xr-header > ul {\n",
       "  display: inline;\n",
       "  margin-top: 0;\n",
       "  margin-bottom: 0;\n",
       "}\n",
       "\n",
       ".xr-obj-type,\n",
       ".xr-array-name {\n",
       "  margin-left: 2px;\n",
       "  margin-right: 10px;\n",
       "}\n",
       "\n",
       ".xr-obj-type {\n",
       "  color: var(--xr-font-color2);\n",
       "}\n",
       "\n",
       ".xr-sections {\n",
       "  padding-left: 0 !important;\n",
       "  display: grid;\n",
       "  grid-template-columns: 150px auto auto 1fr 20px 20px;\n",
       "}\n",
       "\n",
       ".xr-section-item {\n",
       "  display: contents;\n",
       "}\n",
       "\n",
       ".xr-section-item input {\n",
       "  display: none;\n",
       "}\n",
       "\n",
       ".xr-section-item input + label {\n",
       "  color: var(--xr-disabled-color);\n",
       "}\n",
       "\n",
       ".xr-section-item input:enabled + label {\n",
       "  cursor: pointer;\n",
       "  color: var(--xr-font-color2);\n",
       "}\n",
       "\n",
       ".xr-section-item input:enabled + label:hover {\n",
       "  color: var(--xr-font-color0);\n",
       "}\n",
       "\n",
       ".xr-section-summary {\n",
       "  grid-column: 1;\n",
       "  color: var(--xr-font-color2);\n",
       "  font-weight: 500;\n",
       "}\n",
       "\n",
       ".xr-section-summary > span {\n",
       "  display: inline-block;\n",
       "  padding-left: 0.5em;\n",
       "}\n",
       "\n",
       ".xr-section-summary-in:disabled + label {\n",
       "  color: var(--xr-font-color2);\n",
       "}\n",
       "\n",
       ".xr-section-summary-in + label:before {\n",
       "  display: inline-block;\n",
       "  content: '►';\n",
       "  font-size: 11px;\n",
       "  width: 15px;\n",
       "  text-align: center;\n",
       "}\n",
       "\n",
       ".xr-section-summary-in:disabled + label:before {\n",
       "  color: var(--xr-disabled-color);\n",
       "}\n",
       "\n",
       ".xr-section-summary-in:checked + label:before {\n",
       "  content: '▼';\n",
       "}\n",
       "\n",
       ".xr-section-summary-in:checked + label > span {\n",
       "  display: none;\n",
       "}\n",
       "\n",
       ".xr-section-summary,\n",
       ".xr-section-inline-details {\n",
       "  padding-top: 4px;\n",
       "  padding-bottom: 4px;\n",
       "}\n",
       "\n",
       ".xr-section-inline-details {\n",
       "  grid-column: 2 / -1;\n",
       "}\n",
       "\n",
       ".xr-section-details {\n",
       "  display: none;\n",
       "  grid-column: 1 / -1;\n",
       "  margin-bottom: 5px;\n",
       "}\n",
       "\n",
       ".xr-section-summary-in:checked ~ .xr-section-details {\n",
       "  display: contents;\n",
       "}\n",
       "\n",
       ".xr-array-wrap {\n",
       "  grid-column: 1 / -1;\n",
       "  display: grid;\n",
       "  grid-template-columns: 20px auto;\n",
       "}\n",
       "\n",
       ".xr-array-wrap > label {\n",
       "  grid-column: 1;\n",
       "  vertical-align: top;\n",
       "}\n",
       "\n",
       ".xr-preview {\n",
       "  color: var(--xr-font-color3);\n",
       "}\n",
       "\n",
       ".xr-array-preview,\n",
       ".xr-array-data {\n",
       "  padding: 0 5px !important;\n",
       "  grid-column: 2;\n",
       "}\n",
       "\n",
       ".xr-array-data,\n",
       ".xr-array-in:checked ~ .xr-array-preview {\n",
       "  display: none;\n",
       "}\n",
       "\n",
       ".xr-array-in:checked ~ .xr-array-data,\n",
       ".xr-array-preview {\n",
       "  display: inline-block;\n",
       "}\n",
       "\n",
       ".xr-dim-list {\n",
       "  display: inline-block !important;\n",
       "  list-style: none;\n",
       "  padding: 0 !important;\n",
       "  margin: 0;\n",
       "}\n",
       "\n",
       ".xr-dim-list li {\n",
       "  display: inline-block;\n",
       "  padding: 0;\n",
       "  margin: 0;\n",
       "}\n",
       "\n",
       ".xr-dim-list:before {\n",
       "  content: '(';\n",
       "}\n",
       "\n",
       ".xr-dim-list:after {\n",
       "  content: ')';\n",
       "}\n",
       "\n",
       ".xr-dim-list li:not(:last-child):after {\n",
       "  content: ',';\n",
       "  padding-right: 5px;\n",
       "}\n",
       "\n",
       ".xr-has-index {\n",
       "  font-weight: bold;\n",
       "}\n",
       "\n",
       ".xr-var-list,\n",
       ".xr-var-item {\n",
       "  display: contents;\n",
       "}\n",
       "\n",
       ".xr-var-item > div,\n",
       ".xr-var-item label,\n",
       ".xr-var-item > .xr-var-name span {\n",
       "  background-color: var(--xr-background-color-row-even);\n",
       "  margin-bottom: 0;\n",
       "}\n",
       "\n",
       ".xr-var-item > .xr-var-name:hover span {\n",
       "  padding-right: 5px;\n",
       "}\n",
       "\n",
       ".xr-var-list > li:nth-child(odd) > div,\n",
       ".xr-var-list > li:nth-child(odd) > label,\n",
       ".xr-var-list > li:nth-child(odd) > .xr-var-name span {\n",
       "  background-color: var(--xr-background-color-row-odd);\n",
       "}\n",
       "\n",
       ".xr-var-name {\n",
       "  grid-column: 1;\n",
       "}\n",
       "\n",
       ".xr-var-dims {\n",
       "  grid-column: 2;\n",
       "}\n",
       "\n",
       ".xr-var-dtype {\n",
       "  grid-column: 3;\n",
       "  text-align: right;\n",
       "  color: var(--xr-font-color2);\n",
       "}\n",
       "\n",
       ".xr-var-preview {\n",
       "  grid-column: 4;\n",
       "}\n",
       "\n",
       ".xr-index-preview {\n",
       "  grid-column: 2 / 5;\n",
       "  color: var(--xr-font-color2);\n",
       "}\n",
       "\n",
       ".xr-var-name,\n",
       ".xr-var-dims,\n",
       ".xr-var-dtype,\n",
       ".xr-preview,\n",
       ".xr-attrs dt {\n",
       "  white-space: nowrap;\n",
       "  overflow: hidden;\n",
       "  text-overflow: ellipsis;\n",
       "  padding-right: 10px;\n",
       "}\n",
       "\n",
       ".xr-var-name:hover,\n",
       ".xr-var-dims:hover,\n",
       ".xr-var-dtype:hover,\n",
       ".xr-attrs dt:hover {\n",
       "  overflow: visible;\n",
       "  width: auto;\n",
       "  z-index: 1;\n",
       "}\n",
       "\n",
       ".xr-var-attrs,\n",
       ".xr-var-data,\n",
       ".xr-index-data {\n",
       "  display: none;\n",
       "  background-color: var(--xr-background-color) !important;\n",
       "  padding-bottom: 5px !important;\n",
       "}\n",
       "\n",
       ".xr-var-attrs-in:checked ~ .xr-var-attrs,\n",
       ".xr-var-data-in:checked ~ .xr-var-data,\n",
       ".xr-index-data-in:checked ~ .xr-index-data {\n",
       "  display: block;\n",
       "}\n",
       "\n",
       ".xr-var-data > table {\n",
       "  float: right;\n",
       "}\n",
       "\n",
       ".xr-var-name span,\n",
       ".xr-var-data,\n",
       ".xr-index-name div,\n",
       ".xr-index-data,\n",
       ".xr-attrs {\n",
       "  padding-left: 25px !important;\n",
       "}\n",
       "\n",
       ".xr-attrs,\n",
       ".xr-var-attrs,\n",
       ".xr-var-data,\n",
       ".xr-index-data {\n",
       "  grid-column: 1 / -1;\n",
       "}\n",
       "\n",
       "dl.xr-attrs {\n",
       "  padding: 0;\n",
       "  margin: 0;\n",
       "  display: grid;\n",
       "  grid-template-columns: 125px auto;\n",
       "}\n",
       "\n",
       ".xr-attrs dt,\n",
       ".xr-attrs dd {\n",
       "  padding: 0;\n",
       "  margin: 0;\n",
       "  float: left;\n",
       "  padding-right: 10px;\n",
       "  width: auto;\n",
       "}\n",
       "\n",
       ".xr-attrs dt {\n",
       "  font-weight: normal;\n",
       "  grid-column: 1;\n",
       "}\n",
       "\n",
       ".xr-attrs dt:hover span {\n",
       "  display: inline-block;\n",
       "  background: var(--xr-background-color);\n",
       "  padding-right: 10px;\n",
       "}\n",
       "\n",
       ".xr-attrs dd {\n",
       "  grid-column: 2;\n",
       "  white-space: pre-wrap;\n",
       "  word-break: break-all;\n",
       "}\n",
       "\n",
       ".xr-icon-database,\n",
       ".xr-icon-file-text2,\n",
       ".xr-no-icon {\n",
       "  display: inline-block;\n",
       "  vertical-align: middle;\n",
       "  width: 1em;\n",
       "  height: 1.5em !important;\n",
       "  stroke-width: 0;\n",
       "  stroke: currentColor;\n",
       "  fill: currentColor;\n",
       "}\n",
       "</style><pre class='xr-text-repr-fallback'>&lt;xarray.Dataset&gt;\n",
       "Dimensions:            (time: 7146, latitude: 52, longitude: 79)\n",
       "Coordinates:\n",
       "  * time               (time) float64 7.89e+08 7.89e+08 ... 1.714e+09 1.715e+09\n",
       "  * latitude           (latitude) float64 41.38 41.4 41.41 ... 42.07 42.08 42.1\n",
       "  * longitude          (longitude) float64 -83.59 -83.58 -83.56 ... -82.51 -82.5\n",
       "Data variables:\n",
       "    ice_concentration  (time, latitude, longitude) float32 ...\n",
       "Attributes: (12/28)\n",
       "    cdm_data_type:              Grid\n",
       "    Conventions:                CF-1.6, COARDS, ACDD-1.3\n",
       "    Easternmost_Easting:        -82.496964466524\n",
       "    GDAL:                       GDAL 3.4.3, released 2022/04/22\n",
       "    geospatial_lat_max:         42.0985561800016\n",
       "    geospatial_lat_min:         41.3837647963109\n",
       "    ...                         ...\n",
       "    standard_name_vocabulary:   CF Standard Name Table v29\n",
       "    summary:                    Ice Concentration from Great Lakes Surface En...\n",
       "    time_coverage_end:          2024-05-01T12:00:00Z\n",
       "    time_coverage_start:        1995-01-01T12:00:00Z\n",
       "    title:                      Ice Concentration from Great Lakes Surface En...\n",
       "    Westernmost_Easting:        -83.590174818051</pre><div class='xr-wrap' style='display:none'><div class='xr-header'><div class='xr-obj-type'>xarray.Dataset</div></div><ul class='xr-sections'><li class='xr-section-item'><input id='section-7f48709c-c04a-4f5d-ab30-0b55226dbe8c' class='xr-section-summary-in' type='checkbox' disabled ><label for='section-7f48709c-c04a-4f5d-ab30-0b55226dbe8c' class='xr-section-summary'  title='Expand/collapse section'>Dimensions:</label><div class='xr-section-inline-details'><ul class='xr-dim-list'><li><span class='xr-has-index'>time</span>: 7146</li><li><span class='xr-has-index'>latitude</span>: 52</li><li><span class='xr-has-index'>longitude</span>: 79</li></ul></div><div class='xr-section-details'></div></li><li class='xr-section-item'><input id='section-44ded70b-e000-4168-b34a-065dd93c1be5' class='xr-section-summary-in' type='checkbox'  checked><label for='section-44ded70b-e000-4168-b34a-065dd93c1be5' class='xr-section-summary' >Coordinates: <span>(3)</span></label><div class='xr-section-inline-details'></div><div class='xr-section-details'><ul class='xr-var-list'><li class='xr-var-item'><div class='xr-var-name'><span class='xr-has-index'>time</span></div><div class='xr-var-dims'>(time)</div><div class='xr-var-dtype'>float64</div><div class='xr-var-preview xr-preview'>7.89e+08 7.89e+08 ... 1.715e+09</div><input id='attrs-c2701749-5280-414a-a6ca-0e582648bb1e' class='xr-var-attrs-in' type='checkbox' ><label for='attrs-c2701749-5280-414a-a6ca-0e582648bb1e' title='Show/Hide attributes'><svg class='icon xr-icon-file-text2'><use xlink:href='#icon-file-text2'></use></svg></label><input id='data-1d12e9d4-e90a-4da7-9f11-c9c0c84c82b2' class='xr-var-data-in' type='checkbox'><label for='data-1d12e9d4-e90a-4da7-9f11-c9c0c84c82b2' title='Show/Hide data repr'><svg class='icon xr-icon-database'><use xlink:href='#icon-database'></use></svg></label><div class='xr-var-attrs'><dl class='xr-attrs'><dt><span>_CoordinateAxisType :</span></dt><dd>Time</dd><dt><span>actual_range :</span></dt><dd>[7.8896160e+08 1.7145648e+09]</dd><dt><span>axis :</span></dt><dd>T</dd><dt><span>calendar :</span></dt><dd>Gregorian</dd><dt><span>ioos_category :</span></dt><dd>Time</dd><dt><span>long_name :</span></dt><dd>Time</dd><dt><span>standard_name :</span></dt><dd>time</dd><dt><span>time_origin :</span></dt><dd>01-JAN-1970 00:00:00</dd><dt><span>units :</span></dt><dd>seconds since 1970-01-01T00:00:00Z</dd></dl></div><div class='xr-var-data'><pre>array([7.889616e+08, 7.890480e+08, 7.891344e+08, ..., 1.714392e+09,\n",
       "       1.714478e+09, 1.714565e+09])</pre></div></li><li class='xr-var-item'><div class='xr-var-name'><span class='xr-has-index'>latitude</span></div><div class='xr-var-dims'>(latitude)</div><div class='xr-var-dtype'>float64</div><div class='xr-var-preview xr-preview'>41.38 41.4 41.41 ... 42.08 42.1</div><input id='attrs-452d0a62-4c0c-4559-ba15-829b570eb86f' class='xr-var-attrs-in' type='checkbox' ><label for='attrs-452d0a62-4c0c-4559-ba15-829b570eb86f' title='Show/Hide attributes'><svg class='icon xr-icon-file-text2'><use xlink:href='#icon-file-text2'></use></svg></label><input id='data-373978b6-153d-420f-b23e-dad5d2bc5617' class='xr-var-data-in' type='checkbox'><label for='data-373978b6-153d-420f-b23e-dad5d2bc5617' title='Show/Hide data repr'><svg class='icon xr-icon-database'><use xlink:href='#icon-database'></use></svg></label><div class='xr-var-attrs'><dl class='xr-attrs'><dt><span>_CoordinateAxisType :</span></dt><dd>Lat</dd><dt><span>actual_range :</span></dt><dd>[41.3837648  42.09855618]</dd><dt><span>axis :</span></dt><dd>Y</dd><dt><span>ioos_category :</span></dt><dd>Location</dd><dt><span>long_name :</span></dt><dd>Latitude</dd><dt><span>standard_name :</span></dt><dd>latitude</dd><dt><span>units :</span></dt><dd>degrees_north</dd></dl></div><div class='xr-var-data'><pre>array([41.383765, 41.39778 , 41.411796, 41.425811, 41.439827, 41.453842,\n",
       "       41.467858, 41.481873, 41.495889, 41.509904, 41.52392 , 41.537935,\n",
       "       41.551951, 41.565967, 41.579982, 41.593998, 41.608013, 41.622029,\n",
       "       41.636044, 41.65006 , 41.664075, 41.678091, 41.692106, 41.706122,\n",
       "       41.720137, 41.734153, 41.748168, 41.762184, 41.776199, 41.790215,\n",
       "       41.80423 , 41.818246, 41.832261, 41.846277, 41.860292, 41.874308,\n",
       "       41.888323, 41.902339, 41.916354, 41.93037 , 41.944385, 41.958401,\n",
       "       41.972417, 41.986432, 42.000448, 42.014463, 42.028479, 42.042494,\n",
       "       42.05651 , 42.070525, 42.084541, 42.098556])</pre></div></li><li class='xr-var-item'><div class='xr-var-name'><span class='xr-has-index'>longitude</span></div><div class='xr-var-dims'>(longitude)</div><div class='xr-var-dtype'>float64</div><div class='xr-var-preview xr-preview'>-83.59 -83.58 ... -82.51 -82.5</div><input id='attrs-4e37dfba-ff83-4932-a87f-3b1a39bb2ba2' class='xr-var-attrs-in' type='checkbox' ><label for='attrs-4e37dfba-ff83-4932-a87f-3b1a39bb2ba2' title='Show/Hide attributes'><svg class='icon xr-icon-file-text2'><use xlink:href='#icon-file-text2'></use></svg></label><input id='data-32a27e83-a9f8-47fc-9690-d997eb1cc03f' class='xr-var-data-in' type='checkbox'><label for='data-32a27e83-a9f8-47fc-9690-d997eb1cc03f' title='Show/Hide data repr'><svg class='icon xr-icon-database'><use xlink:href='#icon-database'></use></svg></label><div class='xr-var-attrs'><dl class='xr-attrs'><dt><span>_CoordinateAxisType :</span></dt><dd>Lon</dd><dt><span>actual_range :</span></dt><dd>[-83.59017482 -82.49696447]</dd><dt><span>axis :</span></dt><dd>X</dd><dt><span>ioos_category :</span></dt><dd>Location</dd><dt><span>long_name :</span></dt><dd>Longitude</dd><dt><span>standard_name :</span></dt><dd>longitude</dd><dt><span>units :</span></dt><dd>degrees_east</dd></dl></div><div class='xr-var-data'><pre>array([-83.590175, -83.576159, -83.562144, -83.548128, -83.534113, -83.520097,\n",
       "       -83.506082, -83.492066, -83.478051, -83.464035, -83.45002 , -83.436004,\n",
       "       -83.421989, -83.407973, -83.393958, -83.379942, -83.365927, -83.351911,\n",
       "       -83.337896, -83.32388 , -83.309864, -83.295849, -83.281833, -83.267818,\n",
       "       -83.253802, -83.239787, -83.225771, -83.211756, -83.19774 , -83.183725,\n",
       "       -83.169709, -83.155694, -83.141678, -83.127663, -83.113647, -83.099632,\n",
       "       -83.085616, -83.071601, -83.057585, -83.04357 , -83.029554, -83.015539,\n",
       "       -83.001523, -82.987508, -82.973492, -82.959477, -82.945461, -82.931446,\n",
       "       -82.91743 , -82.903414, -82.889399, -82.875383, -82.861368, -82.847352,\n",
       "       -82.833337, -82.819321, -82.805306, -82.79129 , -82.777275, -82.763259,\n",
       "       -82.749244, -82.735228, -82.721213, -82.707197, -82.693182, -82.679166,\n",
       "       -82.665151, -82.651135, -82.63712 , -82.623104, -82.609089, -82.595073,\n",
       "       -82.581058, -82.567042, -82.553027, -82.539011, -82.524996, -82.51098 ,\n",
       "       -82.496964])</pre></div></li></ul></div></li><li class='xr-section-item'><input id='section-de07e7c3-5dfc-42de-a5e1-16c99104c686' class='xr-section-summary-in' type='checkbox'  checked><label for='section-de07e7c3-5dfc-42de-a5e1-16c99104c686' class='xr-section-summary' >Data variables: <span>(1)</span></label><div class='xr-section-inline-details'></div><div class='xr-section-details'><ul class='xr-var-list'><li class='xr-var-item'><div class='xr-var-name'><span>ice_concentration</span></div><div class='xr-var-dims'>(time, latitude, longitude)</div><div class='xr-var-dtype'>float32</div><div class='xr-var-preview xr-preview'>...</div><input id='attrs-4fc61e92-d45d-4423-9a98-7cdddd709452' class='xr-var-attrs-in' type='checkbox' ><label for='attrs-4fc61e92-d45d-4423-9a98-7cdddd709452' title='Show/Hide attributes'><svg class='icon xr-icon-file-text2'><use xlink:href='#icon-file-text2'></use></svg></label><input id='data-b11045c6-c5a6-4ce8-ab94-18c059d94bfd' class='xr-var-data-in' type='checkbox'><label for='data-b11045c6-c5a6-4ce8-ab94-18c059d94bfd' title='Show/Hide data repr'><svg class='icon xr-icon-database'><use xlink:href='#icon-database'></use></svg></label><div class='xr-var-attrs'><dl class='xr-attrs'><dt><span>_FillValue :</span></dt><dd>-99999.0</dd><dt><span>colorBarMaximum :</span></dt><dd>100.0</dd><dt><span>colorBarMinimum :</span></dt><dd>0.0</dd><dt><span>colorBarPalette :</span></dt><dd>WhiteBlack</dd><dt><span>grid_mapping :</span></dt><dd>crs</dd><dt><span>ioos_category :</span></dt><dd>Ocean Color</dd><dt><span>long_name :</span></dt><dd>Ice Concentration</dd><dt><span>standard_name :</span></dt><dd>ice_concentration</dd><dt><span>units :</span></dt><dd>percent</dd></dl></div><div class='xr-var-data'><pre>[29355768 values with dtype=float32]</pre></div></li></ul></div></li><li class='xr-section-item'><input id='section-71e63a7a-3b10-49fa-89f6-2f571f6226ad' class='xr-section-summary-in' type='checkbox'  ><label for='section-71e63a7a-3b10-49fa-89f6-2f571f6226ad' class='xr-section-summary' >Indexes: <span>(3)</span></label><div class='xr-section-inline-details'></div><div class='xr-section-details'><ul class='xr-var-list'><li class='xr-var-item'><div class='xr-index-name'><div>time</div></div><div class='xr-index-preview'>PandasIndex</div><div></div><input id='index-8bda8b16-0e3e-4296-9581-ddde604a9caa' class='xr-index-data-in' type='checkbox'/><label for='index-8bda8b16-0e3e-4296-9581-ddde604a9caa' title='Show/Hide index repr'><svg class='icon xr-icon-database'><use xlink:href='#icon-database'></use></svg></label><div class='xr-index-data'><pre>PandasIndex(Index([ 788961600.0,  789048000.0,  789134400.0,  789220800.0,  789307200.0,\n",
       "        789393600.0,  789480000.0,  789566400.0,  789652800.0,  789739200.0,\n",
       "       ...\n",
       "       1713787200.0, 1713873600.0, 1713960000.0, 1714046400.0, 1714132800.0,\n",
       "       1714219200.0, 1714305600.0, 1714392000.0, 1714478400.0, 1714564800.0],\n",
       "      dtype=&#x27;float64&#x27;, name=&#x27;time&#x27;, length=7146))</pre></div></li><li class='xr-var-item'><div class='xr-index-name'><div>latitude</div></div><div class='xr-index-preview'>PandasIndex</div><div></div><input id='index-5320c330-b71c-4e46-83f9-f13d7b3968b0' class='xr-index-data-in' type='checkbox'/><label for='index-5320c330-b71c-4e46-83f9-f13d7b3968b0' title='Show/Hide index repr'><svg class='icon xr-icon-database'><use xlink:href='#icon-database'></use></svg></label><div class='xr-index-data'><pre>PandasIndex(Index([41.3837647963109, 41.3977803136382, 41.4117958309654, 41.4258113482927,\n",
       "         41.43982686562, 41.4538423829472, 41.4678579002745, 41.4818734176018,\n",
       "        41.495888934929, 41.5099044522563, 41.5239199695836, 41.5379354869108,\n",
       "       41.5519510042381, 41.5659665215654, 41.5799820388927, 41.5939975562199,\n",
       "       41.6080130735472, 41.6220285908745, 41.6360441082017,  41.650059625529,\n",
       "       41.6640751428563, 41.6780906601835, 41.6921061775108, 41.7061216948381,\n",
       "       41.7201372121653, 41.7341527294926, 41.7481682468199, 41.7621837641471,\n",
       "       41.7761992814744, 41.7902147988017,  41.804230316129, 41.8182458334562,\n",
       "       41.8322613507835, 41.8462768681108,  41.860292385438, 41.8743079027653,\n",
       "       41.8883234200926, 41.9023389374198, 41.9163544547471, 41.9303699720744,\n",
       "       41.9443854894016, 41.9584010067289, 41.9724165240562, 41.9864320413835,\n",
       "       42.0004475587107,  42.014463076038, 42.0284785933653, 42.0424941106925,\n",
       "       42.0565096280198, 42.0705251453471, 42.0845406626743, 42.0985561800016],\n",
       "      dtype=&#x27;float64&#x27;, name=&#x27;latitude&#x27;))</pre></div></li><li class='xr-var-item'><div class='xr-index-name'><div>longitude</div></div><div class='xr-index-preview'>PandasIndex</div><div></div><input id='index-ab035599-7675-460d-bd08-7d846863748f' class='xr-index-data-in' type='checkbox'/><label for='index-ab035599-7675-460d-bd08-7d846863748f' title='Show/Hide index repr'><svg class='icon xr-icon-database'><use xlink:href='#icon-database'></use></svg></label><div class='xr-index-data'><pre>PandasIndex(Index([ -83.590174818051, -83.5761593007237, -83.5621437833965,\n",
       "       -83.5481282660692, -83.5341127487419, -83.5200972314146,\n",
       "       -83.5060817140874, -83.4920661967601, -83.4780506794328,\n",
       "       -83.4640351621056, -83.4500196447783,  -83.436004127451,\n",
       "       -83.4219886101238, -83.4079730927965, -83.3939575754692,\n",
       "       -83.3799420581419, -83.3659265408147, -83.3519110234874,\n",
       "       -83.3378955061601, -83.3238799888329, -83.3098644715056,\n",
       "       -83.2958489541783, -83.2818334368511, -83.2678179195238,\n",
       "       -83.2538024021965, -83.2397868848693,  -83.225771367542,\n",
       "       -83.2117558502147, -83.1977403328874, -83.1837248155602,\n",
       "       -83.1697092982329, -83.1556937809057, -83.1416782635784,\n",
       "       -83.1276627462511, -83.1136472289238, -83.0996317115966,\n",
       "       -83.0856161942693,  -83.071600676942, -83.0575851596148,\n",
       "       -83.0435696422875, -83.0295541249602,  -83.015538607633,\n",
       "       -83.0015230903057, -82.9875075729784, -82.9734920556511,\n",
       "       -82.9594765383239, -82.9454610209966, -82.9314455036693,\n",
       "       -82.9174299863421, -82.9034144690148, -82.8893989516875,\n",
       "       -82.8753834343603,  -82.861367917033, -82.8473523997057,\n",
       "       -82.8333368823785, -82.8193213650512, -82.8053058477239,\n",
       "       -82.7912903303966, -82.7772748130694, -82.7632592957421,\n",
       "       -82.7492437784149, -82.7352282610876, -82.7212127437603,\n",
       "        -82.707197226433, -82.6931817091058, -82.6791661917785,\n",
       "       -82.6651506744512,  -82.651135157124, -82.6371196397967,\n",
       "       -82.6231041224694, -82.6090886051422, -82.5950730878149,\n",
       "       -82.5810575704876, -82.5670420531603, -82.5530265358331,\n",
       "       -82.5390110185058, -82.5249955011785, -82.5109799838513,\n",
       "        -82.496964466524],\n",
       "      dtype=&#x27;float64&#x27;, name=&#x27;longitude&#x27;))</pre></div></li></ul></div></li><li class='xr-section-item'><input id='section-2dfafbfb-7e75-4ff7-8a28-ca41daf0e8c7' class='xr-section-summary-in' type='checkbox'  ><label for='section-2dfafbfb-7e75-4ff7-8a28-ca41daf0e8c7' class='xr-section-summary' >Attributes: <span>(28)</span></label><div class='xr-section-inline-details'></div><div class='xr-section-details'><dl class='xr-attrs'><dt><span>cdm_data_type :</span></dt><dd>Grid</dd><dt><span>Conventions :</span></dt><dd>CF-1.6, COARDS, ACDD-1.3</dd><dt><span>Easternmost_Easting :</span></dt><dd>-82.496964466524</dd><dt><span>GDAL :</span></dt><dd>GDAL 3.4.3, released 2022/04/22</dd><dt><span>geospatial_lat_max :</span></dt><dd>42.0985561800016</dd><dt><span>geospatial_lat_min :</span></dt><dd>41.3837647963109</dd><dt><span>geospatial_lat_resolution :</span></dt><dd>0.014015517327269056</dd><dt><span>geospatial_lat_units :</span></dt><dd>degrees_north</dd><dt><span>geospatial_lon_max :</span></dt><dd>-82.496964466524</dd><dt><span>geospatial_lon_min :</span></dt><dd>-83.590174818051</dd><dt><span>geospatial_lon_resolution :</span></dt><dd>0.01401551732726889</dd><dt><span>geospatial_lon_units :</span></dt><dd>degrees_east</dd><dt><span>history :</span></dt><dd>Ice concentration from Great Lakes Surface Environmental Analysis (GLSEA) asc format to nc fromat\n",
       "2024-09-18T16:53:43Z (local files)\n",
       "2024-09-18T16:53:43Z https://apps.glerl.noaa.gov/erddap/griddap/GL_Ice_Concentration_GCS.nc?ice_concentration%5B(1995-01-01T12:00:00Z):1:(2024-05-01T12:00:00Z)%5D%5B(41.38):1:(42.10)%5D%5B(-83.59):1:(-82.5)%5D</dd><dt><span>infoUrl :</span></dt><dd>https://coastwatch.glerl.noaa.gov/glsea/glsea.html</dd><dt><span>institution :</span></dt><dd>CoastWatch Great Lakes Node</dd><dt><span>keywords :</span></dt><dd>analysis, concentration, data, distribution, environmental, glsea, great, great lakes, ice, ice distribution, ice_concentration, lakes, nic, surface, time</dd><dt><span>license :</span></dt><dd>The data may be used and redistributed for free but is not intended\n",
       "for legal use, since it may contain inaccuracies. Neither the data\n",
       "Contributor, ERD, NOAA, nor the United States Government, nor any\n",
       "of their employees or contractors, makes any warranty, express or\n",
       "implied, including warranties of merchantability and fitness for a\n",
       "particular purpose, or assumes any legal liability for the accuracy,\n",
       "completeness, or usefulness, of this information.</dd><dt><span>NCO :</span></dt><dd>netCDF Operators version 5.0.7 (Homepage = http://nco.sf.net, Code = https://github.com/nco/nco)</dd><dt><span>Northernmost_Northing :</span></dt><dd>42.0985561800016</dd><dt><span>source :</span></dt><dd>Ice Concentration from Great Lakes Surface Environmental Analysis (GLSEA) and NIC, Geodetic coordinate system (LAT, LON), 1995-present</dd><dt><span>sourceUrl :</span></dt><dd>(local files)</dd><dt><span>Southernmost_Northing :</span></dt><dd>41.3837647963109</dd><dt><span>standard_name_vocabulary :</span></dt><dd>CF Standard Name Table v29</dd><dt><span>summary :</span></dt><dd>Ice Concentration from Great Lakes Surface Environmental Analysis (GLSEA) and NIC</dd><dt><span>time_coverage_end :</span></dt><dd>2024-05-01T12:00:00Z</dd><dt><span>time_coverage_start :</span></dt><dd>1995-01-01T12:00:00Z</dd><dt><span>title :</span></dt><dd>Ice Concentration from Great Lakes Surface Environmental Analysis (GLSEA) and NIC, Geodetic coordinate system (LAT, LON), 1995-present</dd><dt><span>Westernmost_Easting :</span></dt><dd>-83.590174818051</dd></dl></div></li></ul></div></div>"
      ],
      "text/plain": [
       "<xarray.Dataset>\n",
       "Dimensions:            (time: 7146, latitude: 52, longitude: 79)\n",
       "Coordinates:\n",
       "  * time               (time) float64 7.89e+08 7.89e+08 ... 1.714e+09 1.715e+09\n",
       "  * latitude           (latitude) float64 41.38 41.4 41.41 ... 42.07 42.08 42.1\n",
       "  * longitude          (longitude) float64 -83.59 -83.58 -83.56 ... -82.51 -82.5\n",
       "Data variables:\n",
       "    ice_concentration  (time, latitude, longitude) float32 ...\n",
       "Attributes: (12/28)\n",
       "    cdm_data_type:              Grid\n",
       "    Conventions:                CF-1.6, COARDS, ACDD-1.3\n",
       "    Easternmost_Easting:        -82.496964466524\n",
       "    GDAL:                       GDAL 3.4.3, released 2022/04/22\n",
       "    geospatial_lat_max:         42.0985561800016\n",
       "    geospatial_lat_min:         41.3837647963109\n",
       "    ...                         ...\n",
       "    standard_name_vocabulary:   CF Standard Name Table v29\n",
       "    summary:                    Ice Concentration from Great Lakes Surface En...\n",
       "    time_coverage_end:          2024-05-01T12:00:00Z\n",
       "    time_coverage_start:        1995-01-01T12:00:00Z\n",
       "    title:                      Ice Concentration from Great Lakes Surface En...\n",
       "    Westernmost_Easting:        -83.590174818051"
      ]
     },
     "execution_count": 5,
     "metadata": {},
     "output_type": "execute_result"
    }
   ],
   "source": [
    "ds"
   ]
  },
  {
   "cell_type": "markdown",
   "metadata": {},
   "source": [
    "####  Examine which coordinates and variables are included in the dataset:"
   ]
  },
  {
   "cell_type": "code",
   "execution_count": 6,
   "metadata": {},
   "outputs": [
    {
     "data": {
      "text/plain": [
       "Frozen({'time': 7146, 'latitude': 52, 'longitude': 79})"
      ]
     },
     "execution_count": 6,
     "metadata": {},
     "output_type": "execute_result"
    }
   ],
   "source": [
    " ds.dims"
   ]
  },
  {
   "cell_type": "code",
   "execution_count": 7,
   "metadata": {},
   "outputs": [
    {
     "data": {
      "text/plain": [
       "Coordinates:\n",
       "  * time       (time) float64 7.89e+08 7.89e+08 ... 1.714e+09 1.715e+09\n",
       "  * latitude   (latitude) float64 41.38 41.4 41.41 41.43 ... 42.07 42.08 42.1\n",
       "  * longitude  (longitude) float64 -83.59 -83.58 -83.56 ... -82.52 -82.51 -82.5"
      ]
     },
     "execution_count": 7,
     "metadata": {},
     "output_type": "execute_result"
    }
   ],
   "source": [
    "ds.coords"
   ]
  },
  {
   "cell_type": "code",
   "execution_count": 8,
   "metadata": {},
   "outputs": [
    {
     "data": {
      "text/plain": [
       "Data variables:\n",
       "    ice_concentration  (time, latitude, longitude) float32 ..."
      ]
     },
     "execution_count": 8,
     "metadata": {},
     "output_type": "execute_result"
    }
   ],
   "source": [
    "ds.data_vars"
   ]
  },
  {
   "cell_type": "code",
   "execution_count": 9,
   "metadata": {},
   "outputs": [
    {
     "data": {
      "text/plain": [
       "{'cdm_data_type': 'Grid',\n",
       " 'Conventions': 'CF-1.6, COARDS, ACDD-1.3',\n",
       " 'Easternmost_Easting': -82.496964466524,\n",
       " 'GDAL': 'GDAL 3.4.3, released 2022/04/22',\n",
       " 'geospatial_lat_max': 42.0985561800016,\n",
       " 'geospatial_lat_min': 41.3837647963109,\n",
       " 'geospatial_lat_resolution': 0.014015517327269056,\n",
       " 'geospatial_lat_units': 'degrees_north',\n",
       " 'geospatial_lon_max': -82.496964466524,\n",
       " 'geospatial_lon_min': -83.590174818051,\n",
       " 'geospatial_lon_resolution': 0.01401551732726889,\n",
       " 'geospatial_lon_units': 'degrees_east',\n",
       " 'history': 'Ice concentration from Great Lakes Surface Environmental Analysis (GLSEA) asc format to nc fromat\\n2024-09-18T16:53:43Z (local files)\\n2024-09-18T16:53:43Z https://apps.glerl.noaa.gov/erddap/griddap/GL_Ice_Concentration_GCS.nc?ice_concentration%5B(1995-01-01T12:00:00Z):1:(2024-05-01T12:00:00Z)%5D%5B(41.38):1:(42.10)%5D%5B(-83.59):1:(-82.5)%5D',\n",
       " 'infoUrl': 'https://coastwatch.glerl.noaa.gov/glsea/glsea.html',\n",
       " 'institution': 'CoastWatch Great Lakes Node',\n",
       " 'keywords': 'analysis, concentration, data, distribution, environmental, glsea, great, great lakes, ice, ice distribution, ice_concentration, lakes, nic, surface, time',\n",
       " 'license': 'The data may be used and redistributed for free but is not intended\\nfor legal use, since it may contain inaccuracies. Neither the data\\nContributor, ERD, NOAA, nor the United States Government, nor any\\nof their employees or contractors, makes any warranty, express or\\nimplied, including warranties of merchantability and fitness for a\\nparticular purpose, or assumes any legal liability for the accuracy,\\ncompleteness, or usefulness, of this information.',\n",
       " 'NCO': 'netCDF Operators version 5.0.7 (Homepage = http://nco.sf.net, Code = https://github.com/nco/nco)',\n",
       " 'Northernmost_Northing': 42.0985561800016,\n",
       " 'source': 'Ice Concentration from Great Lakes Surface Environmental Analysis (GLSEA) and NIC, Geodetic coordinate system (LAT, LON), 1995-present',\n",
       " 'sourceUrl': '(local files)',\n",
       " 'Southernmost_Northing': 41.3837647963109,\n",
       " 'standard_name_vocabulary': 'CF Standard Name Table v29',\n",
       " 'summary': 'Ice Concentration from Great Lakes Surface Environmental Analysis (GLSEA) and NIC',\n",
       " 'time_coverage_end': '2024-05-01T12:00:00Z',\n",
       " 'time_coverage_start': '1995-01-01T12:00:00Z',\n",
       " 'title': 'Ice Concentration from Great Lakes Surface Environmental Analysis (GLSEA) and NIC, Geodetic coordinate system (LAT, LON), 1995-present',\n",
       " 'Westernmost_Easting': -83.590174818051}"
      ]
     },
     "execution_count": 9,
     "metadata": {},
     "output_type": "execute_result"
    }
   ],
   "source": [
    "ds.attrs"
   ]
  },
  {
   "cell_type": "markdown",
   "metadata": {},
   "source": [
    "####   Examine the structure of ice concentration:"
   ]
  },
  {
   "cell_type": "code",
   "execution_count": 10,
   "metadata": {},
   "outputs": [
    {
     "data": {
      "text/plain": [
       "(7146, 52, 79)"
      ]
     },
     "execution_count": 10,
     "metadata": {},
     "output_type": "execute_result"
    }
   ],
   "source": [
    "ds.ice_concentration.shape"
   ]
  },
  {
   "cell_type": "markdown",
   "metadata": {},
   "source": [
    "Our dataset is a 3-D array with 52 rows corresponding to latitudes and 79 columns corresponding to longitudes, for each of the 7146 time steps.\n",
    "#### Get the dates for each time step:"
   ]
  },
  {
   "cell_type": "code",
   "execution_count": 11,
   "metadata": {},
   "outputs": [
    {
     "data": {
      "text/html": [
       "<div><svg style=\"position: absolute; width: 0; height: 0; overflow: hidden\">\n",
       "<defs>\n",
       "<symbol id=\"icon-database\" viewBox=\"0 0 32 32\">\n",
       "<path d=\"M16 0c-8.837 0-16 2.239-16 5v4c0 2.761 7.163 5 16 5s16-2.239 16-5v-4c0-2.761-7.163-5-16-5z\"></path>\n",
       "<path d=\"M16 17c-8.837 0-16-2.239-16-5v6c0 2.761 7.163 5 16 5s16-2.239 16-5v-6c0 2.761-7.163 5-16 5z\"></path>\n",
       "<path d=\"M16 26c-8.837 0-16-2.239-16-5v6c0 2.761 7.163 5 16 5s16-2.239 16-5v-6c0 2.761-7.163 5-16 5z\"></path>\n",
       "</symbol>\n",
       "<symbol id=\"icon-file-text2\" viewBox=\"0 0 32 32\">\n",
       "<path d=\"M28.681 7.159c-0.694-0.947-1.662-2.053-2.724-3.116s-2.169-2.030-3.116-2.724c-1.612-1.182-2.393-1.319-2.841-1.319h-15.5c-1.378 0-2.5 1.121-2.5 2.5v27c0 1.378 1.122 2.5 2.5 2.5h23c1.378 0 2.5-1.122 2.5-2.5v-19.5c0-0.448-0.137-1.23-1.319-2.841zM24.543 5.457c0.959 0.959 1.712 1.825 2.268 2.543h-4.811v-4.811c0.718 0.556 1.584 1.309 2.543 2.268zM28 29.5c0 0.271-0.229 0.5-0.5 0.5h-23c-0.271 0-0.5-0.229-0.5-0.5v-27c0-0.271 0.229-0.5 0.5-0.5 0 0 15.499-0 15.5 0v7c0 0.552 0.448 1 1 1h7v19.5z\"></path>\n",
       "<path d=\"M23 26h-14c-0.552 0-1-0.448-1-1s0.448-1 1-1h14c0.552 0 1 0.448 1 1s-0.448 1-1 1z\"></path>\n",
       "<path d=\"M23 22h-14c-0.552 0-1-0.448-1-1s0.448-1 1-1h14c0.552 0 1 0.448 1 1s-0.448 1-1 1z\"></path>\n",
       "<path d=\"M23 18h-14c-0.552 0-1-0.448-1-1s0.448-1 1-1h14c0.552 0 1 0.448 1 1s-0.448 1-1 1z\"></path>\n",
       "</symbol>\n",
       "</defs>\n",
       "</svg>\n",
       "<style>/* CSS stylesheet for displaying xarray objects in jupyterlab.\n",
       " *\n",
       " */\n",
       "\n",
       ":root {\n",
       "  --xr-font-color0: var(--jp-content-font-color0, rgba(0, 0, 0, 1));\n",
       "  --xr-font-color2: var(--jp-content-font-color2, rgba(0, 0, 0, 0.54));\n",
       "  --xr-font-color3: var(--jp-content-font-color3, rgba(0, 0, 0, 0.38));\n",
       "  --xr-border-color: var(--jp-border-color2, #e0e0e0);\n",
       "  --xr-disabled-color: var(--jp-layout-color3, #bdbdbd);\n",
       "  --xr-background-color: var(--jp-layout-color0, white);\n",
       "  --xr-background-color-row-even: var(--jp-layout-color1, white);\n",
       "  --xr-background-color-row-odd: var(--jp-layout-color2, #eeeeee);\n",
       "}\n",
       "\n",
       "html[theme=dark],\n",
       "body[data-theme=dark],\n",
       "body.vscode-dark {\n",
       "  --xr-font-color0: rgba(255, 255, 255, 1);\n",
       "  --xr-font-color2: rgba(255, 255, 255, 0.54);\n",
       "  --xr-font-color3: rgba(255, 255, 255, 0.38);\n",
       "  --xr-border-color: #1F1F1F;\n",
       "  --xr-disabled-color: #515151;\n",
       "  --xr-background-color: #111111;\n",
       "  --xr-background-color-row-even: #111111;\n",
       "  --xr-background-color-row-odd: #313131;\n",
       "}\n",
       "\n",
       ".xr-wrap {\n",
       "  display: block !important;\n",
       "  min-width: 300px;\n",
       "  max-width: 700px;\n",
       "}\n",
       "\n",
       ".xr-text-repr-fallback {\n",
       "  /* fallback to plain text repr when CSS is not injected (untrusted notebook) */\n",
       "  display: none;\n",
       "}\n",
       "\n",
       ".xr-header {\n",
       "  padding-top: 6px;\n",
       "  padding-bottom: 6px;\n",
       "  margin-bottom: 4px;\n",
       "  border-bottom: solid 1px var(--xr-border-color);\n",
       "}\n",
       "\n",
       ".xr-header > div,\n",
       ".xr-header > ul {\n",
       "  display: inline;\n",
       "  margin-top: 0;\n",
       "  margin-bottom: 0;\n",
       "}\n",
       "\n",
       ".xr-obj-type,\n",
       ".xr-array-name {\n",
       "  margin-left: 2px;\n",
       "  margin-right: 10px;\n",
       "}\n",
       "\n",
       ".xr-obj-type {\n",
       "  color: var(--xr-font-color2);\n",
       "}\n",
       "\n",
       ".xr-sections {\n",
       "  padding-left: 0 !important;\n",
       "  display: grid;\n",
       "  grid-template-columns: 150px auto auto 1fr 20px 20px;\n",
       "}\n",
       "\n",
       ".xr-section-item {\n",
       "  display: contents;\n",
       "}\n",
       "\n",
       ".xr-section-item input {\n",
       "  display: none;\n",
       "}\n",
       "\n",
       ".xr-section-item input + label {\n",
       "  color: var(--xr-disabled-color);\n",
       "}\n",
       "\n",
       ".xr-section-item input:enabled + label {\n",
       "  cursor: pointer;\n",
       "  color: var(--xr-font-color2);\n",
       "}\n",
       "\n",
       ".xr-section-item input:enabled + label:hover {\n",
       "  color: var(--xr-font-color0);\n",
       "}\n",
       "\n",
       ".xr-section-summary {\n",
       "  grid-column: 1;\n",
       "  color: var(--xr-font-color2);\n",
       "  font-weight: 500;\n",
       "}\n",
       "\n",
       ".xr-section-summary > span {\n",
       "  display: inline-block;\n",
       "  padding-left: 0.5em;\n",
       "}\n",
       "\n",
       ".xr-section-summary-in:disabled + label {\n",
       "  color: var(--xr-font-color2);\n",
       "}\n",
       "\n",
       ".xr-section-summary-in + label:before {\n",
       "  display: inline-block;\n",
       "  content: '►';\n",
       "  font-size: 11px;\n",
       "  width: 15px;\n",
       "  text-align: center;\n",
       "}\n",
       "\n",
       ".xr-section-summary-in:disabled + label:before {\n",
       "  color: var(--xr-disabled-color);\n",
       "}\n",
       "\n",
       ".xr-section-summary-in:checked + label:before {\n",
       "  content: '▼';\n",
       "}\n",
       "\n",
       ".xr-section-summary-in:checked + label > span {\n",
       "  display: none;\n",
       "}\n",
       "\n",
       ".xr-section-summary,\n",
       ".xr-section-inline-details {\n",
       "  padding-top: 4px;\n",
       "  padding-bottom: 4px;\n",
       "}\n",
       "\n",
       ".xr-section-inline-details {\n",
       "  grid-column: 2 / -1;\n",
       "}\n",
       "\n",
       ".xr-section-details {\n",
       "  display: none;\n",
       "  grid-column: 1 / -1;\n",
       "  margin-bottom: 5px;\n",
       "}\n",
       "\n",
       ".xr-section-summary-in:checked ~ .xr-section-details {\n",
       "  display: contents;\n",
       "}\n",
       "\n",
       ".xr-array-wrap {\n",
       "  grid-column: 1 / -1;\n",
       "  display: grid;\n",
       "  grid-template-columns: 20px auto;\n",
       "}\n",
       "\n",
       ".xr-array-wrap > label {\n",
       "  grid-column: 1;\n",
       "  vertical-align: top;\n",
       "}\n",
       "\n",
       ".xr-preview {\n",
       "  color: var(--xr-font-color3);\n",
       "}\n",
       "\n",
       ".xr-array-preview,\n",
       ".xr-array-data {\n",
       "  padding: 0 5px !important;\n",
       "  grid-column: 2;\n",
       "}\n",
       "\n",
       ".xr-array-data,\n",
       ".xr-array-in:checked ~ .xr-array-preview {\n",
       "  display: none;\n",
       "}\n",
       "\n",
       ".xr-array-in:checked ~ .xr-array-data,\n",
       ".xr-array-preview {\n",
       "  display: inline-block;\n",
       "}\n",
       "\n",
       ".xr-dim-list {\n",
       "  display: inline-block !important;\n",
       "  list-style: none;\n",
       "  padding: 0 !important;\n",
       "  margin: 0;\n",
       "}\n",
       "\n",
       ".xr-dim-list li {\n",
       "  display: inline-block;\n",
       "  padding: 0;\n",
       "  margin: 0;\n",
       "}\n",
       "\n",
       ".xr-dim-list:before {\n",
       "  content: '(';\n",
       "}\n",
       "\n",
       ".xr-dim-list:after {\n",
       "  content: ')';\n",
       "}\n",
       "\n",
       ".xr-dim-list li:not(:last-child):after {\n",
       "  content: ',';\n",
       "  padding-right: 5px;\n",
       "}\n",
       "\n",
       ".xr-has-index {\n",
       "  font-weight: bold;\n",
       "}\n",
       "\n",
       ".xr-var-list,\n",
       ".xr-var-item {\n",
       "  display: contents;\n",
       "}\n",
       "\n",
       ".xr-var-item > div,\n",
       ".xr-var-item label,\n",
       ".xr-var-item > .xr-var-name span {\n",
       "  background-color: var(--xr-background-color-row-even);\n",
       "  margin-bottom: 0;\n",
       "}\n",
       "\n",
       ".xr-var-item > .xr-var-name:hover span {\n",
       "  padding-right: 5px;\n",
       "}\n",
       "\n",
       ".xr-var-list > li:nth-child(odd) > div,\n",
       ".xr-var-list > li:nth-child(odd) > label,\n",
       ".xr-var-list > li:nth-child(odd) > .xr-var-name span {\n",
       "  background-color: var(--xr-background-color-row-odd);\n",
       "}\n",
       "\n",
       ".xr-var-name {\n",
       "  grid-column: 1;\n",
       "}\n",
       "\n",
       ".xr-var-dims {\n",
       "  grid-column: 2;\n",
       "}\n",
       "\n",
       ".xr-var-dtype {\n",
       "  grid-column: 3;\n",
       "  text-align: right;\n",
       "  color: var(--xr-font-color2);\n",
       "}\n",
       "\n",
       ".xr-var-preview {\n",
       "  grid-column: 4;\n",
       "}\n",
       "\n",
       ".xr-index-preview {\n",
       "  grid-column: 2 / 5;\n",
       "  color: var(--xr-font-color2);\n",
       "}\n",
       "\n",
       ".xr-var-name,\n",
       ".xr-var-dims,\n",
       ".xr-var-dtype,\n",
       ".xr-preview,\n",
       ".xr-attrs dt {\n",
       "  white-space: nowrap;\n",
       "  overflow: hidden;\n",
       "  text-overflow: ellipsis;\n",
       "  padding-right: 10px;\n",
       "}\n",
       "\n",
       ".xr-var-name:hover,\n",
       ".xr-var-dims:hover,\n",
       ".xr-var-dtype:hover,\n",
       ".xr-attrs dt:hover {\n",
       "  overflow: visible;\n",
       "  width: auto;\n",
       "  z-index: 1;\n",
       "}\n",
       "\n",
       ".xr-var-attrs,\n",
       ".xr-var-data,\n",
       ".xr-index-data {\n",
       "  display: none;\n",
       "  background-color: var(--xr-background-color) !important;\n",
       "  padding-bottom: 5px !important;\n",
       "}\n",
       "\n",
       ".xr-var-attrs-in:checked ~ .xr-var-attrs,\n",
       ".xr-var-data-in:checked ~ .xr-var-data,\n",
       ".xr-index-data-in:checked ~ .xr-index-data {\n",
       "  display: block;\n",
       "}\n",
       "\n",
       ".xr-var-data > table {\n",
       "  float: right;\n",
       "}\n",
       "\n",
       ".xr-var-name span,\n",
       ".xr-var-data,\n",
       ".xr-index-name div,\n",
       ".xr-index-data,\n",
       ".xr-attrs {\n",
       "  padding-left: 25px !important;\n",
       "}\n",
       "\n",
       ".xr-attrs,\n",
       ".xr-var-attrs,\n",
       ".xr-var-data,\n",
       ".xr-index-data {\n",
       "  grid-column: 1 / -1;\n",
       "}\n",
       "\n",
       "dl.xr-attrs {\n",
       "  padding: 0;\n",
       "  margin: 0;\n",
       "  display: grid;\n",
       "  grid-template-columns: 125px auto;\n",
       "}\n",
       "\n",
       ".xr-attrs dt,\n",
       ".xr-attrs dd {\n",
       "  padding: 0;\n",
       "  margin: 0;\n",
       "  float: left;\n",
       "  padding-right: 10px;\n",
       "  width: auto;\n",
       "}\n",
       "\n",
       ".xr-attrs dt {\n",
       "  font-weight: normal;\n",
       "  grid-column: 1;\n",
       "}\n",
       "\n",
       ".xr-attrs dt:hover span {\n",
       "  display: inline-block;\n",
       "  background: var(--xr-background-color);\n",
       "  padding-right: 10px;\n",
       "}\n",
       "\n",
       ".xr-attrs dd {\n",
       "  grid-column: 2;\n",
       "  white-space: pre-wrap;\n",
       "  word-break: break-all;\n",
       "}\n",
       "\n",
       ".xr-icon-database,\n",
       ".xr-icon-file-text2,\n",
       ".xr-no-icon {\n",
       "  display: inline-block;\n",
       "  vertical-align: middle;\n",
       "  width: 1em;\n",
       "  height: 1.5em !important;\n",
       "  stroke-width: 0;\n",
       "  stroke: currentColor;\n",
       "  fill: currentColor;\n",
       "}\n",
       "</style><pre class='xr-text-repr-fallback'>&lt;xarray.DataArray &#x27;time&#x27; (time: 7146)&gt;\n",
       "array([7.889616e+08, 7.890480e+08, 7.891344e+08, ..., 1.714392e+09,\n",
       "       1.714478e+09, 1.714565e+09])\n",
       "Coordinates:\n",
       "  * time     (time) float64 7.89e+08 7.89e+08 7.891e+08 ... 1.714e+09 1.715e+09\n",
       "Attributes:\n",
       "    _CoordinateAxisType:  Time\n",
       "    actual_range:         [7.8896160e+08 1.7145648e+09]\n",
       "    axis:                 T\n",
       "    calendar:             Gregorian\n",
       "    ioos_category:        Time\n",
       "    long_name:            Time\n",
       "    standard_name:        time\n",
       "    time_origin:          01-JAN-1970 00:00:00\n",
       "    units:                seconds since 1970-01-01T00:00:00Z</pre><div class='xr-wrap' style='display:none'><div class='xr-header'><div class='xr-obj-type'>xarray.DataArray</div><div class='xr-array-name'>'time'</div><ul class='xr-dim-list'><li><span class='xr-has-index'>time</span>: 7146</li></ul></div><ul class='xr-sections'><li class='xr-section-item'><div class='xr-array-wrap'><input id='section-4d5d9e1d-16b5-45cf-afee-14d2f73ad2a5' class='xr-array-in' type='checkbox' checked><label for='section-4d5d9e1d-16b5-45cf-afee-14d2f73ad2a5' title='Show/hide data repr'><svg class='icon xr-icon-database'><use xlink:href='#icon-database'></use></svg></label><div class='xr-array-preview xr-preview'><span>7.89e+08 7.89e+08 7.891e+08 ... 1.714e+09 1.714e+09 1.715e+09</span></div><div class='xr-array-data'><pre>array([7.889616e+08, 7.890480e+08, 7.891344e+08, ..., 1.714392e+09,\n",
       "       1.714478e+09, 1.714565e+09])</pre></div></div></li><li class='xr-section-item'><input id='section-bc7abc6d-b446-4423-bc6e-63e286a59c3c' class='xr-section-summary-in' type='checkbox'  checked><label for='section-bc7abc6d-b446-4423-bc6e-63e286a59c3c' class='xr-section-summary' >Coordinates: <span>(1)</span></label><div class='xr-section-inline-details'></div><div class='xr-section-details'><ul class='xr-var-list'><li class='xr-var-item'><div class='xr-var-name'><span class='xr-has-index'>time</span></div><div class='xr-var-dims'>(time)</div><div class='xr-var-dtype'>float64</div><div class='xr-var-preview xr-preview'>7.89e+08 7.89e+08 ... 1.715e+09</div><input id='attrs-0e80cb07-ea58-4bc4-861a-d6cdc48953d5' class='xr-var-attrs-in' type='checkbox' ><label for='attrs-0e80cb07-ea58-4bc4-861a-d6cdc48953d5' title='Show/Hide attributes'><svg class='icon xr-icon-file-text2'><use xlink:href='#icon-file-text2'></use></svg></label><input id='data-7f898419-e8bb-4fad-b65d-0fb29d1a3d1e' class='xr-var-data-in' type='checkbox'><label for='data-7f898419-e8bb-4fad-b65d-0fb29d1a3d1e' title='Show/Hide data repr'><svg class='icon xr-icon-database'><use xlink:href='#icon-database'></use></svg></label><div class='xr-var-attrs'><dl class='xr-attrs'><dt><span>_CoordinateAxisType :</span></dt><dd>Time</dd><dt><span>actual_range :</span></dt><dd>[7.8896160e+08 1.7145648e+09]</dd><dt><span>axis :</span></dt><dd>T</dd><dt><span>calendar :</span></dt><dd>Gregorian</dd><dt><span>ioos_category :</span></dt><dd>Time</dd><dt><span>long_name :</span></dt><dd>Time</dd><dt><span>standard_name :</span></dt><dd>time</dd><dt><span>time_origin :</span></dt><dd>01-JAN-1970 00:00:00</dd><dt><span>units :</span></dt><dd>seconds since 1970-01-01T00:00:00Z</dd></dl></div><div class='xr-var-data'><pre>array([7.889616e+08, 7.890480e+08, 7.891344e+08, ..., 1.714392e+09,\n",
       "       1.714478e+09, 1.714565e+09])</pre></div></li></ul></div></li><li class='xr-section-item'><input id='section-e53ff1b7-938d-4655-9b8c-09eb9e9fb88d' class='xr-section-summary-in' type='checkbox'  ><label for='section-e53ff1b7-938d-4655-9b8c-09eb9e9fb88d' class='xr-section-summary' >Indexes: <span>(1)</span></label><div class='xr-section-inline-details'></div><div class='xr-section-details'><ul class='xr-var-list'><li class='xr-var-item'><div class='xr-index-name'><div>time</div></div><div class='xr-index-preview'>PandasIndex</div><div></div><input id='index-a1fc69ba-09ce-4ca3-9495-4d2504f748da' class='xr-index-data-in' type='checkbox'/><label for='index-a1fc69ba-09ce-4ca3-9495-4d2504f748da' title='Show/Hide index repr'><svg class='icon xr-icon-database'><use xlink:href='#icon-database'></use></svg></label><div class='xr-index-data'><pre>PandasIndex(Index([ 788961600.0,  789048000.0,  789134400.0,  789220800.0,  789307200.0,\n",
       "        789393600.0,  789480000.0,  789566400.0,  789652800.0,  789739200.0,\n",
       "       ...\n",
       "       1713787200.0, 1713873600.0, 1713960000.0, 1714046400.0, 1714132800.0,\n",
       "       1714219200.0, 1714305600.0, 1714392000.0, 1714478400.0, 1714564800.0],\n",
       "      dtype=&#x27;float64&#x27;, name=&#x27;time&#x27;, length=7146))</pre></div></li></ul></div></li><li class='xr-section-item'><input id='section-8172544d-221c-47c9-b1e0-6ec14d27675e' class='xr-section-summary-in' type='checkbox'  checked><label for='section-8172544d-221c-47c9-b1e0-6ec14d27675e' class='xr-section-summary' >Attributes: <span>(9)</span></label><div class='xr-section-inline-details'></div><div class='xr-section-details'><dl class='xr-attrs'><dt><span>_CoordinateAxisType :</span></dt><dd>Time</dd><dt><span>actual_range :</span></dt><dd>[7.8896160e+08 1.7145648e+09]</dd><dt><span>axis :</span></dt><dd>T</dd><dt><span>calendar :</span></dt><dd>Gregorian</dd><dt><span>ioos_category :</span></dt><dd>Time</dd><dt><span>long_name :</span></dt><dd>Time</dd><dt><span>standard_name :</span></dt><dd>time</dd><dt><span>time_origin :</span></dt><dd>01-JAN-1970 00:00:00</dd><dt><span>units :</span></dt><dd>seconds since 1970-01-01T00:00:00Z</dd></dl></div></li></ul></div></div>"
      ],
      "text/plain": [
       "<xarray.DataArray 'time' (time: 7146)>\n",
       "array([7.889616e+08, 7.890480e+08, 7.891344e+08, ..., 1.714392e+09,\n",
       "       1.714478e+09, 1.714565e+09])\n",
       "Coordinates:\n",
       "  * time     (time) float64 7.89e+08 7.89e+08 7.891e+08 ... 1.714e+09 1.715e+09\n",
       "Attributes:\n",
       "    _CoordinateAxisType:  Time\n",
       "    actual_range:         [7.8896160e+08 1.7145648e+09]\n",
       "    axis:                 T\n",
       "    calendar:             Gregorian\n",
       "    ioos_category:        Time\n",
       "    long_name:            Time\n",
       "    standard_name:        time\n",
       "    time_origin:          01-JAN-1970 00:00:00\n",
       "    units:                seconds since 1970-01-01T00:00:00Z"
      ]
     },
     "execution_count": 11,
     "metadata": {},
     "output_type": "execute_result"
    }
   ],
   "source": [
    "ds.time"
   ]
  },
  {
   "cell_type": "code",
   "execution_count": 12,
   "metadata": {},
   "outputs": [
    {
     "data": {
      "text/plain": [
       "{'_CoordinateAxisType': 'Time',\n",
       " 'actual_range': array([7.8896160e+08, 1.7145648e+09]),\n",
       " 'axis': 'T',\n",
       " 'calendar': 'Gregorian',\n",
       " 'ioos_category': 'Time',\n",
       " 'long_name': 'Time',\n",
       " 'standard_name': 'time',\n",
       " 'time_origin': '01-JAN-1970 00:00:00',\n",
       " 'units': 'seconds since 1970-01-01T00:00:00Z'}"
      ]
     },
     "execution_count": 12,
     "metadata": {},
     "output_type": "execute_result"
    }
   ],
   "source": [
    "ds.time.attrs"
   ]
  },
  {
   "cell_type": "code",
   "execution_count": 13,
   "metadata": {},
   "outputs": [
    {
     "name": "stdout",
     "output_type": "stream",
     "text": [
      "<xarray.DataArray 'time' (time: 7146)>\n",
      "array([7.889616e+08, 7.890480e+08, 7.891344e+08, ..., 1.714392e+09,\n",
      "       1.714478e+09, 1.714565e+09])\n",
      "Coordinates:\n",
      "  * time     (time) float64 7.89e+08 7.89e+08 7.891e+08 ... 1.714e+09 1.715e+09\n",
      "Attributes:\n",
      "    _CoordinateAxisType:  Time\n",
      "    actual_range:         [7.8896160e+08 1.7145648e+09]\n",
      "    axis:                 T\n",
      "    calendar:             Gregorian\n",
      "    ioos_category:        Time\n",
      "    long_name:            Time\n",
      "    standard_name:        time\n",
      "    time_origin:          01-JAN-1970 00:00:00\n",
      "    units:                seconds since 1970-01-01T00:00:00Z\n"
     ]
    }
   ],
   "source": [
    "print(ds.time)"
   ]
  },
  {
   "cell_type": "markdown",
   "metadata": {},
   "source": [
    "####  The time units is seconds, we need to convert the seconds to dates."
   ]
  },
  {
   "cell_type": "code",
   "execution_count": 14,
   "metadata": {},
   "outputs": [
    {
     "data": {
      "text/plain": [
       "array([real_datetime(1995, 1, 1, 12, 0), real_datetime(1995, 1, 2, 12, 0),\n",
       "       real_datetime(1995, 1, 3, 12, 0), ...,\n",
       "       real_datetime(2024, 4, 29, 12, 0),\n",
       "       real_datetime(2024, 4, 30, 12, 0),\n",
       "       real_datetime(2024, 5, 1, 12, 0)], dtype=object)"
      ]
     },
     "execution_count": 14,
     "metadata": {},
     "output_type": "execute_result"
    }
   ],
   "source": [
    "dates=nc.num2date(ds.time,ds.time.units,only_use_cftime_datetimes=False, \n",
    "                        only_use_python_datetimes=True )\n",
    "dates"
   ]
  },
  {
   "cell_type": "markdown",
   "metadata": {},
   "source": [
    "####  Find the index of dates for 2019-03-01"
   ]
  },
  {
   "cell_type": "code",
   "execution_count": 15,
   "metadata": {},
   "outputs": [
    {
     "name": "stdout",
     "output_type": "stream",
     "text": [
      "5872 2019-03-01 12:00:00\n"
     ]
    }
   ],
   "source": [
    "for i, date in enumerate(dates):\n",
    "    if date.strftime(\"%Y-%m-%d\") == \"2019-03-01\":\n",
    "        print(i, date)"
   ]
  },
  {
   "cell_type": "markdown",
   "metadata": {},
   "source": [
    "5872 is the index on the array dates for 2019-03-01."
   ]
  },
  {
   "cell_type": "markdown",
   "metadata": {},
   "source": [
    "#### Create a map of ice concentration for March 1, 2019 (our 5872th time step)."
   ]
  },
  {
   "cell_type": "code",
   "execution_count": 16,
   "metadata": {},
   "outputs": [],
   "source": [
    "import pandas as pd\n",
    "import numpy as np\n",
    "from matplotlib import pyplot as plt\n",
    "from matplotlib.colors import LinearSegmentedColormap\n",
    "#np.warnings.filterwarnings('ignore')"
   ]
  },
  {
   "cell_type": "markdown",
   "metadata": {},
   "source": [
    " #### Examine the values of ice concentration:"
   ]
  },
  {
   "cell_type": "code",
   "execution_count": 17,
   "metadata": {},
   "outputs": [
    {
     "name": "stdout",
     "output_type": "stream",
     "text": [
      "[[[-99999. -99999. -99999. ... -99999. -99999. -99999.]\n",
      "  [-99999. -99999. -99999. ... -99999. -99999.      0.]\n",
      "  [-99999. -99999. -99999. ...      0.      0.      0.]\n",
      "  ...\n",
      "  [-99999. -99999. -99999. ... -99999. -99999. -99999.]\n",
      "  [-99999. -99999. -99999. ... -99999. -99999. -99999.]\n",
      "  [-99999. -99999. -99999. ... -99999. -99999. -99999.]]\n",
      "\n",
      " [[-99999. -99999. -99999. ... -99999. -99999. -99999.]\n",
      "  [-99999. -99999. -99999. ... -99999. -99999.      0.]\n",
      "  [-99999. -99999. -99999. ...      0.      0.      0.]\n",
      "  ...\n",
      "  [-99999. -99999. -99999. ... -99999. -99999. -99999.]\n",
      "  [-99999. -99999. -99999. ... -99999. -99999. -99999.]\n",
      "  [-99999. -99999. -99999. ... -99999. -99999. -99999.]]\n",
      "\n",
      " [[-99999. -99999. -99999. ... -99999. -99999. -99999.]\n",
      "  [-99999. -99999. -99999. ... -99999. -99999.      0.]\n",
      "  [-99999. -99999. -99999. ...      0.      0.      0.]\n",
      "  ...\n",
      "  [-99999. -99999. -99999. ... -99999. -99999. -99999.]\n",
      "  [-99999. -99999. -99999. ... -99999. -99999. -99999.]\n",
      "  [-99999. -99999. -99999. ... -99999. -99999. -99999.]]\n",
      "\n",
      " ...\n",
      "\n",
      " [[-99999. -99999. -99999. ... -99999. -99999. -99999.]\n",
      "  [-99999. -99999. -99999. ... -99999. -99999.      0.]\n",
      "  [-99999. -99999. -99999. ...      0.      0.      0.]\n",
      "  ...\n",
      "  [-99999. -99999. -99999. ... -99999. -99999. -99999.]\n",
      "  [-99999. -99999. -99999. ... -99999. -99999. -99999.]\n",
      "  [-99999. -99999. -99999. ... -99999. -99999. -99999.]]\n",
      "\n",
      " [[-99999. -99999. -99999. ... -99999. -99999. -99999.]\n",
      "  [-99999. -99999. -99999. ... -99999. -99999.      0.]\n",
      "  [-99999. -99999. -99999. ...      0.      0.      0.]\n",
      "  ...\n",
      "  [-99999. -99999. -99999. ... -99999. -99999. -99999.]\n",
      "  [-99999. -99999. -99999. ... -99999. -99999. -99999.]\n",
      "  [-99999. -99999. -99999. ... -99999. -99999. -99999.]]\n",
      "\n",
      " [[-99999. -99999. -99999. ... -99999. -99999. -99999.]\n",
      "  [-99999. -99999. -99999. ... -99999. -99999.      0.]\n",
      "  [-99999. -99999. -99999. ...      0.      0.      0.]\n",
      "  ...\n",
      "  [-99999. -99999. -99999. ... -99999. -99999. -99999.]\n",
      "  [-99999. -99999. -99999. ... -99999. -99999. -99999.]\n",
      "  [-99999. -99999. -99999. ... -99999. -99999. -99999.]]]\n",
      "(7146, 52, 79)\n"
     ]
    }
   ],
   "source": [
    "print(ds.ice_concentration.values)\n",
    "print(ds.ice_concentration.shape)"
   ]
  },
  {
   "cell_type": "code",
   "execution_count": 18,
   "metadata": {},
   "outputs": [
    {
     "data": {
      "text/plain": [
       "{'_FillValue': -99999.0,\n",
       " 'colorBarMaximum': 100.0,\n",
       " 'colorBarMinimum': 0.0,\n",
       " 'colorBarPalette': 'WhiteBlack',\n",
       " 'grid_mapping': 'crs',\n",
       " 'ioos_category': 'Ocean Color',\n",
       " 'long_name': 'Ice Concentration',\n",
       " 'standard_name': 'ice_concentration',\n",
       " 'units': 'percent'}"
      ]
     },
     "execution_count": 18,
     "metadata": {},
     "output_type": "execute_result"
    }
   ],
   "source": [
    "ds.ice_concentration.attrs"
   ]
  },
  {
   "cell_type": "code",
   "execution_count": 19,
   "metadata": {},
   "outputs": [
    {
     "data": {
      "text/plain": [
       "-99999.0"
      ]
     },
     "execution_count": 19,
     "metadata": {},
     "output_type": "execute_result"
    }
   ],
   "source": [
    "ds.ice_concentration.attrs['_FillValue']"
   ]
  },
  {
   "cell_type": "markdown",
   "metadata": {},
   "source": [
    "#### Make a new ice concentration DataArray and replace _fillValue with NaN"
   ]
  },
  {
   "cell_type": "code",
   "execution_count": 20,
   "metadata": {},
   "outputs": [
    {
     "name": "stdout",
     "output_type": "stream",
     "text": [
      "<xarray.DataArray 'ice_concentration' (time: 7146, latitude: 52, longitude: 79)>\n",
      "array([[[nan, nan, nan, ..., nan, nan, nan],\n",
      "        [nan, nan, nan, ..., nan, nan,  0.],\n",
      "        [nan, nan, nan, ...,  0.,  0.,  0.],\n",
      "        ...,\n",
      "        [nan, nan, nan, ..., nan, nan, nan],\n",
      "        [nan, nan, nan, ..., nan, nan, nan],\n",
      "        [nan, nan, nan, ..., nan, nan, nan]],\n",
      "\n",
      "       [[nan, nan, nan, ..., nan, nan, nan],\n",
      "        [nan, nan, nan, ..., nan, nan,  0.],\n",
      "        [nan, nan, nan, ...,  0.,  0.,  0.],\n",
      "        ...,\n",
      "        [nan, nan, nan, ..., nan, nan, nan],\n",
      "        [nan, nan, nan, ..., nan, nan, nan],\n",
      "        [nan, nan, nan, ..., nan, nan, nan]],\n",
      "\n",
      "       [[nan, nan, nan, ..., nan, nan, nan],\n",
      "        [nan, nan, nan, ..., nan, nan,  0.],\n",
      "        [nan, nan, nan, ...,  0.,  0.,  0.],\n",
      "        ...,\n",
      "...\n",
      "        ...,\n",
      "        [nan, nan, nan, ..., nan, nan, nan],\n",
      "        [nan, nan, nan, ..., nan, nan, nan],\n",
      "        [nan, nan, nan, ..., nan, nan, nan]],\n",
      "\n",
      "       [[nan, nan, nan, ..., nan, nan, nan],\n",
      "        [nan, nan, nan, ..., nan, nan,  0.],\n",
      "        [nan, nan, nan, ...,  0.,  0.,  0.],\n",
      "        ...,\n",
      "        [nan, nan, nan, ..., nan, nan, nan],\n",
      "        [nan, nan, nan, ..., nan, nan, nan],\n",
      "        [nan, nan, nan, ..., nan, nan, nan]],\n",
      "\n",
      "       [[nan, nan, nan, ..., nan, nan, nan],\n",
      "        [nan, nan, nan, ..., nan, nan,  0.],\n",
      "        [nan, nan, nan, ...,  0.,  0.,  0.],\n",
      "        ...,\n",
      "        [nan, nan, nan, ..., nan, nan, nan],\n",
      "        [nan, nan, nan, ..., nan, nan, nan],\n",
      "        [nan, nan, nan, ..., nan, nan, nan]]], dtype=float32)\n",
      "Coordinates:\n",
      "  * time       (time) float64 7.89e+08 7.89e+08 ... 1.714e+09 1.715e+09\n",
      "  * latitude   (latitude) float64 41.38 41.4 41.41 41.43 ... 42.07 42.08 42.1\n",
      "  * longitude  (longitude) float64 -83.59 -83.58 -83.56 ... -82.52 -82.51 -82.5\n",
      "Attributes:\n",
      "    _FillValue:       -99999.0\n",
      "    colorBarMaximum:  100.0\n",
      "    colorBarMinimum:  0.0\n",
      "    colorBarPalette:  WhiteBlack\n",
      "    grid_mapping:     crs\n",
      "    ioos_category:    Ocean Color\n",
      "    long_name:        Ice Concentration\n",
      "    standard_name:    ice_concentration\n",
      "    units:            percent\n"
     ]
    }
   ],
   "source": [
    "nan_ice_concentration = ds.ice_concentration.where(ds.ice_concentration.values != ds.ice_concentration.attrs['_FillValue'])\n",
    "\n",
    "print(nan_ice_concentration)"
   ]
  },
  {
   "cell_type": "markdown",
   "metadata": {},
   "source": [
    "#### Set some color breaks"
   ]
  },
  {
   "cell_type": "code",
   "execution_count": 21,
   "metadata": {},
   "outputs": [
    {
     "data": {
      "text/plain": [
       "0.0"
      ]
     },
     "execution_count": 21,
     "metadata": {},
     "output_type": "execute_result"
    }
   ],
   "source": [
    "# find min value in man_sst\n",
    "np.nanmin(nan_ice_concentration)"
   ]
  },
  {
   "cell_type": "code",
   "execution_count": 22,
   "metadata": {},
   "outputs": [
    {
     "data": {
      "text/plain": [
       "99.99847"
      ]
     },
     "execution_count": 22,
     "metadata": {},
     "output_type": "execute_result"
    }
   ],
   "source": [
    "np.nanmax(nan_ice_concentration)"
   ]
  },
  {
   "cell_type": "code",
   "execution_count": 23,
   "metadata": {},
   "outputs": [
    {
     "data": {
      "text/plain": [
       "11"
      ]
     },
     "execution_count": 23,
     "metadata": {},
     "output_type": "execute_result"
    }
   ],
   "source": [
    "levs = np.arange(0, 101, 10)\n",
    "len(levs)"
   ]
  },
  {
   "cell_type": "markdown",
   "metadata": {},
   "source": [
    "#### Define a color palette"
   ]
  },
  {
   "cell_type": "code",
   "execution_count": 24,
   "metadata": {},
   "outputs": [],
   "source": [
    "# init a color list\n",
    "jet=[\"blue\", \"#007FFF\", \"cyan\",\"#7FFF7F\", \"yellow\", \"#FF7F00\", \"red\", \"#7F0000\"]\n"
   ]
  },
  {
   "cell_type": "markdown",
   "metadata": {},
   "source": [
    "#### Set color scale using the jet palette"
   ]
  },
  {
   "cell_type": "code",
   "execution_count": 25,
   "metadata": {},
   "outputs": [],
   "source": [
    "cm = LinearSegmentedColormap.from_list('my_jet', jet, N=len(levs))\n"
   ]
  },
  {
   "cell_type": "markdown",
   "metadata": {},
   "source": [
    "####  plot the ice_concentration map"
   ]
  },
  {
   "cell_type": "code",
   "execution_count": 26,
   "metadata": {},
   "outputs": [
    {
     "data": {
      "image/png": "[encoded data removed]",
      "text/plain": [
       "<Figure size 1000x500 with 2 Axes>"
      ]
     },
     "metadata": {},
     "output_type": "display_data"
    }
   ],
   "source": [
    "plt.subplots(figsize=(10, 5))\n",
    "\n",
    "#plot 5872th ice concentration image: nan_ice_concentration[5872 ,:,:]\n",
    "plt.contourf(nan_ice_concentration.longitude, nan_ice_concentration.latitude, nan_ice_concentration[5872,:,:], levs,cmap=cm)\n",
    "\n",
    "#plot the color scale\n",
    "plt.colorbar()\n",
    "\n",
    "#example of how to add points to the map\n",
    "#plt.scatter(np.linspace(-82,-80.5,num=4),np.repeat(42,4),c='black')\n",
    "\n",
    "#example of how to add a contour line\n",
    "#step = np.arange(9,26, 1)\n",
    "\n",
    "#plt.contour(ds.longitude, ds.latitude, ds.sst[0,:,:],levels=step,linewidths=1)\n",
    "\n",
    "#plot title\n",
    "plt.title(\"West Lake Erie Ice Concentration - \" + dates[5872].strftime('%b %d, %Y'))\n",
    "plt.show()"
   ]
  },
  {
   "cell_type": "markdown",
   "metadata": {},
   "source": [
    "#### Let's compute the daily mean over the west Lake Erie region:"
   ]
  },
  {
   "cell_type": "code",
   "execution_count": 27,
   "metadata": {},
   "outputs": [
    {
     "data": {
      "text/plain": [
       "array([0., 0., 0., ..., 0., 0., 0.], dtype=float32)"
      ]
     },
     "execution_count": 27,
     "metadata": {},
     "output_type": "execute_result"
    }
   ],
   "source": [
    "res=np.nanmean(nan_ice_concentration,axis=(1,2))\n",
    "res\n"
   ]
  },
  {
   "cell_type": "markdown",
   "metadata": {},
   "source": [
    "####  Let's plot the time-series (from 2019-03-01 to 2019-03-31):"
   ]
  },
  {
   "cell_type": "code",
   "execution_count": 28,
   "metadata": {},
   "outputs": [
    {
     "name": "stdout",
     "output_type": "stream",
     "text": [
      "5872 2019-03-01 12:00:00\n",
      "5902 2019-03-31 12:00:00\n"
     ]
    }
   ],
   "source": [
    "for i, date in enumerate(dates):\n",
    "    if date.strftime(\"%Y-%m-%d\") == \"2019-03-01\":\n",
    "        print(i, date)\n",
    "    \n",
    "    if date.strftime(\"%Y-%m-%d\") == \"2019-03-31\":\n",
    "        print(i, date)"
   ]
  },
  {
   "cell_type": "code",
   "execution_count": 29,
   "metadata": {},
   "outputs": [
    {
     "name": "stdout",
     "output_type": "stream",
     "text": [
      "(7146,)\n"
     ]
    }
   ],
   "source": [
    "print(res.shape)"
   ]
  },
  {
   "cell_type": "code",
   "execution_count": 30,
   "metadata": {},
   "outputs": [
    {
     "data": {
      "image/png": "[encoded data removed]",
      "text/plain": [
       "<Figure size 800x400 with 1 Axes>"
      ]
     },
     "metadata": {},
     "output_type": "display_data"
    }
   ],
   "source": [
    "plt.figure(figsize=(8,4))\n",
    "\n",
    "plt.scatter(dates[5872:5902+1],res[5872:5902+1])\n",
    "\n",
    "#degree_sign = u\"\\N{DEGREE SIGN}\"\n",
    "plt.ylabel('Ice Concentration (%)')\n",
    "\n",
    "plt.xlim(dates[5872], dates[5902+1])\n",
    "\n",
    "plt.xticks(dates[5872:5902+1],rotation=70, fontsize=10 )\n",
    "plt.show()"
   ]
  },
  {
   "cell_type": "code",
   "execution_count": 31,
   "metadata": {},
   "outputs": [
    {
     "name": "stderr",
     "output_type": "stream",
     "text": [
      "[NbConvertApp] Converting notebook GL_python_tutorial4.ipynb to html\n",
      "[NbConvertApp] Writing 313369 bytes to GL_python_tutorial4.html\n"
     ]
    }
   ],
   "source": [
    "!jupyter nbconvert --to html GL_python_tutorial4.ipynb"
   ]
  },
  {
   "cell_type": "code",
   "execution_count": null,
   "metadata": {},
   "outputs": [],
   "source": []
  }
 ],
 "metadata": {
  "kernelspec": {
   "display_name": "Python 3 (ipykernel)",
   "language": "python",
   "name": "python3"
  },
  "language_info": {
   "codemirror_mode": {
    "name": "ipython",
    "version": 3
   },
   "file_extension": ".py",
   "mimetype": "text/x-python",
   "name": "python",
   "nbconvert_exporter": "python",
   "pygments_lexer": "ipython3",
   "version": "3.11.9"
  }
 },
 "nbformat": 4,
 "nbformat_minor": 2
}
