{
 "cells": [
  {
   "cell_type": "markdown",
   "metadata": {},
   "source": [
    "## Matching Satellite and Buoy Data\n",
    "In this exercise, you will combine satellite and buoy data by extracting satellite measurements around specific points defined by buoy locations and dates.  The focus of this exercise is on matching two data sources from different projections.  \n",
    "Similar tutorials for mid to lower latitudes can be found at [https://github.com/coastwatch-training/CoastWatch-Tutorials](https://github.com/coastwatch-training/CoastWatch-Tutorials?tab=readme-ov-file#readme).\n",
    "\n",
    "## This exercise demonstrates the following techniques:\n",
    "- Using ERDDAP to retrieve buoy data in CSV format and satellite data in netCDF format\n",
    "- Importing and manipulating data with the pandas and xarray libraries\n",
    "- Resampling data to lower-resolution time steps\n",
    "- Converting latitude and longitude coordinates to the polar stereographic projection\n"
   ]
  },
  {
   "cell_type": "markdown",
   "metadata": {},
   "source": [

    "### Data Used\n",

    "\n",
    "\n",
    "__[Ice Surface Temperature, NOAA-20 VIIRS, Near Real-Time, Polar Stereographic (North), 4-day](https://polarwatch.noaa.gov/erddap/info/noaacwVIIRSn20icesrftempNP06Daily4Day/index.html\n",
    ")__\n",
    "\n",
    "This dataset provides VIIRS sea ice surface temperature for the Arctic at a 750m resolution, collected by the NOAA-20 satellite. It includes near-real-time daily data and 4-day composites for the past three weeks. For this exercise, we will use 4-day composites data.  \n",
    "\n",
    "\n",
    "__[International Arctic Buoy Programme (IABP) Buoy Data, Daily](https://polarwatch.noaa.gov/erddap/info/iabpv2_buoys/index.html)__\n",
    "\n",
    "This data set is from the US International Arctic Buoy Programme and includes meteorological and oceanographic data from buoys. Dataset is updated daily and includes multiple variables.  For this exercise, we will extract surface temperature data. \n",
    "\n",
    "<br/>\n",
    "While both instruments measure surface temperatures, they do so at different locations and with different sensors.\n",
    "\n",
    "__Satellite Ice Surface Temperature (IST)__ is measured by the Visible Infrared Imaging Radiometer Suite (VIIRS) and captures the temperature of the surface layer of ice.\n",
    "\n",
    "__Buoy Surface Temperature (Ts)__ is measured from the bottom of the buoy hull. If the buoy is floating, the reported temperature is of the sea surface. If the buoy is frozen into the ice or sitting on top of it, the reported temperature is of the ground or ice. The freezing temperature of seawater is about -1.8°C, so temperature readings below this indicate ground or ice temperatures.\n",
    "\n",

    "More details can be found in the metadata section of the data products (click on the data links above).\n",

    "\n",
    "### Loading packages\n",
    "\n",
    "\n"
   ]
  },
  {
   "cell_type": "code",
   "execution_count": 3,
   "metadata": {},
   "outputs": [],
   "source": [
    "import xarray as xr\n",
    "import pandas as pd\n",
    "import requests\n",
    "import io\n",
    "import pyproj\n",
    "import numpy as np\n",
    "\n",
    "import matplotlib.pyplot as plt\n",
    "import matplotlib.dates as mdates\n",
    "import seaborn as sns\n",
    "from sklearn.metrics import r2_score \n",
    "import cartopy.crs as ccrs # cartopy: geospatial data visualization\n",
    "import cartopy.feature as cfeature\n"
   ]
  },
  {
   "cell_type": "markdown",
   "metadata": {},
   "source": [
    "### Loading Buoy Data (IABP) from PolarWatch ERDDAP data server\n"
   ]
  },
  {
   "cell_type": "code",
   "execution_count": 4,
   "metadata": {},
   "outputs": [
    {
     "data": {
      "text/html": [
       "<div>\n",
       "<style scoped>\n",
       "    .dataframe tbody tr th:only-of-type {\n",
       "        vertical-align: middle;\n",
       "    }\n",
       "\n",
       "    .dataframe tbody tr th {\n",
       "        vertical-align: top;\n",
       "    }\n",
       "\n",
       "    .dataframe thead th {\n",
       "        text-align: right;\n",
       "    }\n",
       "</style>\n",
       "<table border=\"1\" class=\"dataframe\">\n",
       "  <thead>\n",
       "    <tr style=\"text-align: right;\">\n",
       "      <th></th>\n",
       "      <th>buoy_id</th>\n",
       "      <th>longitude</th>\n",
       "      <th>latitude</th>\n",
       "      <th>time</th>\n",
       "      <th>surface_temp</th>\n",
       "    </tr>\n",
       "  </thead>\n",
       "  <tbody>\n",
       "    <tr>\n",
       "      <th>0</th>\n",
       "      <td>300234066034140</td>\n",
       "      <td>-28.5226</td>\n",
       "      <td>55.0168</td>\n",
       "      <td>2023-08-01 00:00:00+00:00</td>\n",
       "      <td>13.5</td>\n",
       "    </tr>\n",
       "    <tr>\n",
       "      <th>1</th>\n",
       "      <td>300234066034140</td>\n",
       "      <td>-28.5226</td>\n",
       "      <td>55.0168</td>\n",
       "      <td>2023-08-01 01:00:02+00:00</td>\n",
       "      <td>13.4</td>\n",
       "    </tr>\n",
       "    <tr>\n",
       "      <th>2</th>\n",
       "      <td>300234066034140</td>\n",
       "      <td>-28.5226</td>\n",
       "      <td>55.0168</td>\n",
       "      <td>2023-08-01 01:59:57+00:00</td>\n",
       "      <td>13.4</td>\n",
       "    </tr>\n",
       "  </tbody>\n",
       "</table>\n",
       "</div>"
      ],
      "text/plain": [
       "           buoy_id  longitude  latitude                      time  \\\n",
       "0  300234066034140   -28.5226   55.0168 2023-08-01 00:00:00+00:00   \n",
       "1  300234066034140   -28.5226   55.0168 2023-08-01 01:00:02+00:00   \n",
       "2  300234066034140   -28.5226   55.0168 2023-08-01 01:59:57+00:00   \n",
       "\n",
       "   surface_temp  \n",
       "0          13.5  \n",
       "1          13.4  \n",
       "2          13.4  "
      ]
     },
     "execution_count": 4,
     "metadata": {},
     "output_type": "execute_result"
    }
   ],
   "source": [
    "# Construct ERDDAP URL is constructed to query the IABP buoy dataset on ERDDAP for buoy_id, longitude, latitude, \n",
    "# time, and surface temperature, filtering for data where surface_temp exists and for the date range \n",
    "# between 2023-08-01 and 2023-09-30.\n",
    "buoy_url = ''.join(['https://polarwatch.noaa.gov/erddap/tabledap/iabpv2_buoys.csv?',\n",
    "                    'buoy_id,longitude,latitude,time,surface_temp',\n",
    "                    '&has_surface_temp=\"yes\"&time>=2023-08-01&time<=2023-09-30'\n",
    "                    ])\n",
    "\n",
    "# Make a request to the ERDDAP server\n",
    "req = requests.get(buoy_url).content\n",
    "\n",
    "# The response from the web service is read as a CSV file into a pandas DataFrame. \n",
    "df = pd.read_csv(io.StringIO(req.decode('utf-8')), skiprows=[1], parse_dates=['time'])\n",
    "\n",
    "df.head(3)\n",
    "\n"
   ]
  },
  {
   "cell_type": "markdown",
   "metadata": {},
   "source": [
    "### Selecting one buoy and Processing Data \n",
    "We will first select one buoy  (buoy id = \"300534062897730\"). The buoy records measurements at intervals of minutes, resulting in a high-resolution dataset. To align it with the daily resolution of the satellite dataset, we will downsample the buoy data. The time data is recorded in the UTC time zone, but since pandas operations often encounter issues with time zones, we will remove the time zone information for easier processing."
   ]
  },
  {
   "cell_type": "code",
   "execution_count": 5,
   "metadata": {},
   "outputs": [
    {
     "name": "stdout",
     "output_type": "stream",
     "text": [
      "# of timesteps before = 8523\n",
      "# of timesteps after = 60\n"
     ]
    },
    {
     "data": {
      "text/html": [
       "<div>\n",
       "<style scoped>\n",
       "    .dataframe tbody tr th:only-of-type {\n",
       "        vertical-align: middle;\n",
       "    }\n",
       "\n",
       "    .dataframe tbody tr th {\n",
       "        vertical-align: top;\n",
       "    }\n",
       "\n",
       "    .dataframe thead th {\n",
       "        text-align: right;\n",
       "    }\n",
       "</style>\n",
       "<table border=\"1\" class=\"dataframe\">\n",
       "  <thead>\n",
       "    <tr style=\"text-align: right;\">\n",
       "      <th></th>\n",
       "      <th>buoy_id</th>\n",
       "      <th>longitude</th>\n",
       "      <th>latitude</th>\n",
       "      <th>temp_buoy</th>\n",
       "    </tr>\n",
       "    <tr>\n",
       "      <th>time</th>\n",
       "      <th></th>\n",
       "      <th></th>\n",
       "      <th></th>\n",
       "      <th></th>\n",
       "    </tr>\n",
       "  </thead>\n",
       "  <tbody>\n",
       "    <tr>\n",
       "      <th>2023-08-01</th>\n",
       "      <td>3.005341e+14</td>\n",
       "      <td>-143.782008</td>\n",
       "      <td>86.385202</td>\n",
       "      <td>2.193916</td>\n",
       "    </tr>\n",
       "    <tr>\n",
       "      <th>2023-08-02</th>\n",
       "      <td>3.005341e+14</td>\n",
       "      <td>-143.104535</td>\n",
       "      <td>86.333932</td>\n",
       "      <td>1.520208</td>\n",
       "    </tr>\n",
       "  </tbody>\n",
       "</table>\n",
       "</div>"
      ],
      "text/plain": [
       "                 buoy_id   longitude   latitude  temp_buoy\n",
       "time                                                      \n",
       "2023-08-01  3.005341e+14 -143.782008  86.385202   2.193916\n",
       "2023-08-02  3.005341e+14 -143.104535  86.333932   1.520208"
      ]
     },
     "execution_count": 5,
     "metadata": {},
     "output_type": "execute_result"
    }
   ],
   "source": [
    "# Select one buoy (buoy id = \"300534062897730\")\n",
    "buoy_df = df.loc[df[\"buoy_id\"]== 300534062897730]\n",
    "\n",
    "print('# of timesteps before =', buoy_df.shape[0] )\n",
    "\n",
    "# The resampling will put time as the df index\n",
    "buoy_df_resampled = buoy_df.resample('D', on='time').mean()\n",
    "print('# of timesteps after =', buoy_df_resampled.shape[0] )\n",
    "\n",
    "# Remove the timezone (UTC, GMT).\n",
    "buoy_df_resampled = buoy_df_resampled.tz_localize(None)\n",
    "\n",
    "# Rename the variable\n",
    "buoy_df_resampled.rename(columns={\"surface_temp\": \"temp_buoy\"}, errors=\"raise\", inplace=True)\n",
    "\n",
    "buoy_df_resampled.head(2)"
   ]
  },
  {
   "cell_type": "markdown",
   "metadata": {},
   "source": [
    "### Transforming Buoy Coordinates to Polar Projection\n",
    "\n",
    "The buoy locations are provided in latitude and longitude coordinates. To match these with the satellite data, which are in a polar stereographic projection, we will convert the buoy locations from latitude and longitude to the corresponding columns and rows in the polar projection."
   ]
  },
  {
   "cell_type": "code",
   "execution_count": 8,
   "metadata": {},
   "outputs": [
    {
     "data": {
      "text/html": [
       "<div>\n",
       "<style scoped>\n",
       "    .dataframe tbody tr th:only-of-type {\n",
       "        vertical-align: middle;\n",
       "    }\n",
       "\n",
       "    .dataframe tbody tr th {\n",
       "        vertical-align: top;\n",
       "    }\n",
       "\n",
       "    .dataframe thead th {\n",
       "        text-align: right;\n",
       "    }\n",
       "</style>\n",
       "<table border=\"1\" class=\"dataframe\">\n",
       "  <thead>\n",
       "    <tr style=\"text-align: right;\">\n",
       "      <th></th>\n",
       "      <th>buoy_id</th>\n",
       "      <th>longitude</th>\n",
       "      <th>latitude</th>\n",
       "      <th>temp_buoy</th>\n",
       "      <th>cols</th>\n",
       "      <th>rows</th>\n",
       "    </tr>\n",
       "    <tr>\n",
       "      <th>time</th>\n",
       "      <th></th>\n",
       "      <th></th>\n",
       "      <th></th>\n",
       "      <th></th>\n",
       "      <th></th>\n",
       "      <th></th>\n",
       "    </tr>\n",
       "  </thead>\n",
       "  <tbody>\n",
       "    <tr>\n",
       "      <th>2023-08-01</th>\n",
       "      <td>3.005341e+14</td>\n",
       "      <td>-143.782008</td>\n",
       "      <td>86.385202</td>\n",
       "      <td>2.193916</td>\n",
       "      <td>-387113.857367</td>\n",
       "      <td>59803.924517</td>\n",
       "    </tr>\n",
       "    <tr>\n",
       "      <th>2023-08-02</th>\n",
       "      <td>3.005341e+14</td>\n",
       "      <td>-143.104535</td>\n",
       "      <td>86.333932</td>\n",
       "      <td>1.520208</td>\n",
       "      <td>-393297.704017</td>\n",
       "      <td>56006.315907</td>\n",
       "    </tr>\n",
       "  </tbody>\n",
       "</table>\n",
       "</div>"
      ],
      "text/plain": [
       "                 buoy_id   longitude   latitude  temp_buoy           cols  \\\n",
       "time                                                                        \n",
       "2023-08-01  3.005341e+14 -143.782008  86.385202   2.193916 -387113.857367   \n",
       "2023-08-02  3.005341e+14 -143.104535  86.333932   1.520208 -393297.704017   \n",
       "\n",
       "                    rows  \n",
       "time                      \n",
       "2023-08-01  59803.924517  \n",
       "2023-08-02  56006.315907  "
      ]
     },
     "execution_count": 8,
     "metadata": {},
     "output_type": "execute_result"
    }
   ],
   "source": [
    "# Define the projection using the PROJ4 string format\n",
    "proj4text = \"+proj=stere +lat_0=90 +lat_ts=70 +lon_0=-45 +k=1 +x_0=0 +y_0=0 +datum=WGS84 +units=m +no_defs\"\n",
    "\n",
    "# Initialize the projection object using pyproj with the given PROJ4 text\n",
    "proj = pyproj.Proj(proj4text)\n",
    "\n",
    "# Transform latitude and longitude values into x, y coordinates in Polar Stereographic projection\n",
    "# Longitude and latitude are passed as arrays, and pyproj will return the corresponding x (cols) and y (rows) values\n",
    "buoy_df_resampled['cols'], buoy_df_resampled['rows'] = proj(buoy_df_resampled['longitude'].values, buoy_df_resampled['latitude'].values)\n",
    "\n",
    "# View the first two rows of the DataFrame to verify that the 'cols' and 'rows' columns were added\n",
    "buoy_df_resampled.head(2)"
   ]
  },
  {
   "cell_type": "code",
   "execution_count": 9,
   "metadata": {},
   "outputs": [],
   "source": [
    "# Select the first buoy location to pull corresponding satellite data\n",
    "buoy_cols = buoy_df_resampled['cols'].iloc[0]\n",
    "buoy_rows = buoy_df_resampled['rows'].iloc[0]"
   ]
  },
  {
   "cell_type": "markdown",
   "metadata": {},
   "source": [
    "### Loading Satellite Data from PolarWatch"
   ]
  },
  {
   "cell_type": "code",
   "execution_count": 6,
   "metadata": {},
   "outputs": [],
   "source": [
    "# Construct ERDDAP data request\n",
    "gridded_url = \"https://polarwatch.noaa.gov/erddap/griddap/noaacwVIIRSn20icesrftempNP06Daily4Day\"\n",
    "\n",
    "# Open and load data into xarray dataset\n",
    "srftemp_ds = xr.open_dataset(gridded_url)\n",
    "\n",
    "# The altitude dimension has a size of 1, so we will remove it to reduce the dimensionality\n",
    "srftemp_ds = srftemp_ds.squeeze()"
   ]
  },
  {
   "cell_type": "markdown",
   "metadata": {},
   "source": [
    "### Selecting Satellite Data to Match Buoy Location and Dates\n",
    "\n",
    "Next, we will subset the satellite data using the buoy's first location and the corresponding start and end dates."
   ]
  },
  {
   "cell_type": "code",
   "execution_count": 11,
   "metadata": {},
   "outputs": [],
   "source": [
    "# Subset the data using the buoy location and date range\n",
    "sftemp_ds_subset = srftemp_ds['IceSrfTemp'].sel(rows=buoy_rows,\n",
    "                            cols = buoy_cols, method='nearest'\n",
    "                            ).sel(time=slice('2023-08-01', \n",
    "                                             '2023-09-30'\n",
    "                                             ))"
   ]
  },
  {
   "cell_type": "markdown",
   "metadata": {},
   "source": [
    "### Processing Satellite Data"
   ]
  },
  {
   "cell_type": "code",
   "execution_count": 12,
   "metadata": {},
   "outputs": [
    {
     "data": {
      "text/html": [
       "<div>\n",
       "<style scoped>\n",
       "    .dataframe tbody tr th:only-of-type {\n",
       "        vertical-align: middle;\n",
       "    }\n",
       "\n",
       "    .dataframe tbody tr th {\n",
       "        vertical-align: top;\n",
       "    }\n",
       "\n",
       "    .dataframe thead th {\n",
       "        text-align: right;\n",
       "    }\n",
       "</style>\n",
       "<table border=\"1\" class=\"dataframe\">\n",
       "  <thead>\n",
       "    <tr style=\"text-align: right;\">\n",
       "      <th></th>\n",
       "      <th>sat_cols</th>\n",
       "      <th>sat_rows</th>\n",
       "      <th>temp_sat</th>\n",
       "    </tr>\n",
       "    <tr>\n",
       "      <th>time</th>\n",
       "      <th></th>\n",
       "      <th></th>\n",
       "      <th></th>\n",
       "    </tr>\n",
       "  </thead>\n",
       "  <tbody>\n",
       "    <tr>\n",
       "      <th>2023-08-01</th>\n",
       "      <td>-386767.5</td>\n",
       "      <td>60022.5</td>\n",
       "      <td>-0.41333</td>\n",
       "    </tr>\n",
       "    <tr>\n",
       "      <th>2023-08-02</th>\n",
       "      <td>-386767.5</td>\n",
       "      <td>60022.5</td>\n",
       "      <td>NaN</td>\n",
       "    </tr>\n",
       "  </tbody>\n",
       "</table>\n",
       "</div>"
      ],
      "text/plain": [
       "            sat_cols  sat_rows  temp_sat\n",
       "time                                    \n",
       "2023-08-01 -386767.5   60022.5  -0.41333\n",
       "2023-08-02 -386767.5   60022.5       NaN"
      ]
     },
     "execution_count": 12,
     "metadata": {},
     "output_type": "execute_result"
    }
   ],
   "source": [
    "# Create a dictionary with varibles from satellite dataset\n",
    "sat_data = {'time': sftemp_ds_subset.time.values,\n",
    "            'sat_cols': sftemp_ds_subset['cols'].values,\n",
    "            'sat_rows': sftemp_ds_subset['rows'].values,\n",
    "            'temp_sat': sftemp_ds_subset.squeeze().to_numpy()\n",
    "            }\n",
    "\n",
    "# Creates pandas DataFrame\n",
    "sat_df = pd.DataFrame(sat_data)\n",
    "\n",
    "# Convert temperature from Kelvin to Celcius\n",
    "sat_df[\"temp_sat\"] = sat_df[\"temp_sat\"] - 273.15\n",
    "\n",
    "# Resample the data to a daily format to ensure consistency with the buoy data\n",
    "# Even if the data is already daily, this enforces a consistent time format\n",
    "sat_df = sat_df.resample('D', on='time').mean()\n",
    "\n",
    "# Remove timezone\n",
    "sat_df = sat_df.tz_localize(None)\n",
    "\n",
    "sat_df.head(2)"
   ]
  },
  {
   "cell_type": "markdown",
   "metadata": {},
   "source": [
    "### Merging Buoy and Satellite Data\n",
    "We will merge the datasets by index (date). As shown in the data frame, not all buoy dates have corresponding satellite data. We will match the available data, and any unmatched dates will be filled with NaN values.\n"
   ]
  },
  {
   "cell_type": "code",
   "execution_count": 13,
   "metadata": {},
   "outputs": [
    {
     "data": {
      "text/html": [
       "<div>\n",
       "<style scoped>\n",
       "    .dataframe tbody tr th:only-of-type {\n",
       "        vertical-align: middle;\n",
       "    }\n",
       "\n",
       "    .dataframe tbody tr th {\n",
       "        vertical-align: top;\n",
       "    }\n",
       "\n",
       "    .dataframe thead th {\n",
       "        text-align: right;\n",
       "    }\n",
       "</style>\n",
       "<table border=\"1\" class=\"dataframe\">\n",
       "  <thead>\n",
       "    <tr style=\"text-align: right;\">\n",
       "      <th></th>\n",
       "      <th>time</th>\n",
       "      <th>buoy_id</th>\n",
       "      <th>longitude</th>\n",
       "      <th>latitude</th>\n",
       "      <th>temp_buoy</th>\n",
       "      <th>cols</th>\n",
       "      <th>rows</th>\n",
       "      <th>sat_cols</th>\n",
       "      <th>sat_rows</th>\n",
       "      <th>temp_sat</th>\n",
       "    </tr>\n",
       "  </thead>\n",
       "  <tbody>\n",
       "    <tr>\n",
       "      <th>0</th>\n",
       "      <td>2023-08-01</td>\n",
       "      <td>3.005341e+14</td>\n",
       "      <td>-143.782008</td>\n",
       "      <td>86.385202</td>\n",
       "      <td>2.193916</td>\n",
       "      <td>-387113.857367</td>\n",
       "      <td>59803.924517</td>\n",
       "      <td>-386767.5</td>\n",
       "      <td>60022.5</td>\n",
       "      <td>-0.41333</td>\n",
       "    </tr>\n",
       "    <tr>\n",
       "      <th>1</th>\n",
       "      <td>2023-08-02</td>\n",
       "      <td>3.005341e+14</td>\n",
       "      <td>-143.104535</td>\n",
       "      <td>86.333932</td>\n",
       "      <td>1.520208</td>\n",
       "      <td>-393297.704017</td>\n",
       "      <td>56006.315907</td>\n",
       "      <td>-386767.5</td>\n",
       "      <td>60022.5</td>\n",
       "      <td>NaN</td>\n",
       "    </tr>\n",
       "    <tr>\n",
       "      <th>2</th>\n",
       "      <td>2023-08-03</td>\n",
       "      <td>3.005341e+14</td>\n",
       "      <td>-142.195432</td>\n",
       "      <td>86.271987</td>\n",
       "      <td>0.803264</td>\n",
       "      <td>-400800.933610</td>\n",
       "      <td>50600.465317</td>\n",
       "      <td>-386767.5</td>\n",
       "      <td>60022.5</td>\n",
       "      <td>NaN</td>\n",
       "    </tr>\n",
       "  </tbody>\n",
       "</table>\n",
       "</div>"
      ],
      "text/plain": [
       "        time       buoy_id   longitude   latitude  temp_buoy           cols  \\\n",
       "0 2023-08-01  3.005341e+14 -143.782008  86.385202   2.193916 -387113.857367   \n",
       "1 2023-08-02  3.005341e+14 -143.104535  86.333932   1.520208 -393297.704017   \n",
       "2 2023-08-03  3.005341e+14 -142.195432  86.271987   0.803264 -400800.933610   \n",
       "\n",
       "           rows  sat_cols  sat_rows  temp_sat  \n",
       "0  59803.924517 -386767.5   60022.5  -0.41333  \n",
       "1  56006.315907 -386767.5   60022.5       NaN  \n",
       "2  50600.465317 -386767.5   60022.5       NaN  "
      ]
     },
     "execution_count": 13,
     "metadata": {},
     "output_type": "execute_result"
    }
   ],
   "source": [
    "# Merge the buoy and satellite DataFrames using a left join\n",
    "merged_df = pd.merge(buoy_df_resampled, \n",
    "                     sat_df, \n",
    "                     left_index=True, \n",
    "                     right_index=True, \n",
    "                     how=\"left\").reset_index()\n",
    "\n",
    "merged_df.head(3)"
   ]
  },
  {
   "cell_type": "markdown",
   "metadata": {},
   "source": [
    "### Visualizing Matched DataSets\n",
    "We will now visualize the matched buoy and satellite datasets to assess the data alignment. \n"
   ]
  },
  {
   "cell_type": "code",
   "execution_count": 14,
   "metadata": {},
   "outputs": [
    {
     "data": {
      "text/plain": [
       "<matplotlib.legend.Legend at 0x320a40c10>"
      ]
     },
     "execution_count": 14,
     "metadata": {},
     "output_type": "execute_result"
    },
    {
     "data": {
      "image/png": "[encoded data removed]",
      "text/plain": [
       "<Figure size 1000x500 with 1 Axes>"
      ]
     },
     "metadata": {},
     "output_type": "display_data"
    }
   ],
   "source": [
    "plt.figure(figsize = (10, 5)) \n",
    "# Plot the SeaWiFS data\n",
    "plt.plot_date(merged_df.time, merged_df.temp_buoy, \n",
    "              'o', markersize=3, \n",
    "              label='Buoy Surface Temperature', c='red', \n",
    "              linestyle='-', linewidth=1) \n",
    "\n",
    "# Add MODIS data\n",
    "plt.plot_date(merged_df.time, merged_df.temp_sat,  \n",
    "              's', markersize=3, \n",
    "              label='VIIRS Sea Ice Surface Temperature', c='blue', \n",
    "              linestyle='-', linewidth=1) \n",
    "\n",
    "#plt.ylim([0, 3])\n",
    "plt.ylabel('Temperature (degrees C)') \n",
    "plt.legend()"
   ]
  }
 ],
 "metadata": {
  "kernelspec": {
   "display_name": "seaice",
   "language": "python",
   "name": "python3"
  },
  "language_info": {
   "codemirror_mode": {
    "name": "ipython",
    "version": 3
   },
   "file_extension": ".py",
   "mimetype": "text/x-python",
   "name": "python",
   "nbconvert_exporter": "python",
   "pygments_lexer": "ipython3",
   "version": "3.9.19"
  }
 },
 "nbformat": 4,
 "nbformat_minor": 2
}
